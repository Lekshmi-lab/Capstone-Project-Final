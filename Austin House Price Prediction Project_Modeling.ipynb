{
 "cells": [
  {
   "cell_type": "markdown",
   "id": "ebb6b366",
   "metadata": {},
   "source": [
    "# Section 1: Import Libraries"
   ]
  },
  {
   "cell_type": "code",
   "execution_count": 1,
   "id": "23db2e60",
   "metadata": {},
   "outputs": [],
   "source": [
    "import pandas as pd\n",
    "import numpy as np\n",
    "import matplotlib.pyplot as plt\n",
    "import seaborn as sns"
   ]
  },
  {
   "cell_type": "markdown",
   "id": "c8b11084",
   "metadata": {},
   "source": [
    "# Section 2: Loading Data"
   ]
  },
  {
   "cell_type": "code",
   "execution_count": 2,
   "id": "10588659",
   "metadata": {},
   "outputs": [],
   "source": [
    "AustinhousepriceMasterdata=pd.read_csv('C:/Users/leksh/Documents/spring board/Capstone project/austin_housing data.csv')\n"
   ]
  },
  {
   "cell_type": "markdown",
   "id": "91da5d4a",
   "metadata": {},
   "source": [
    "# Section 3: Exploring Data"
   ]
  },
  {
   "cell_type": "code",
   "execution_count": 3,
   "id": "c1ec8508",
   "metadata": {},
   "outputs": [
    {
     "data": {
      "text/plain": [
       "(15171, 47)"
      ]
     },
     "execution_count": 3,
     "metadata": {},
     "output_type": "execute_result"
    }
   ],
   "source": [
    "#Find the number of rows and columns\n",
    "AustinhousepriceMasterdata.shape"
   ]
  },
  {
   "cell_type": "markdown",
   "id": "f504bea4",
   "metadata": {},
   "source": [
    "There are 15171 rows and 47 columns fo the master data"
   ]
  },
  {
   "cell_type": "code",
   "execution_count": 4,
   "id": "57c175ed",
   "metadata": {},
   "outputs": [
    {
     "data": {
      "text/html": [
       "<div>\n",
       "<style scoped>\n",
       "    .dataframe tbody tr th:only-of-type {\n",
       "        vertical-align: middle;\n",
       "    }\n",
       "\n",
       "    .dataframe tbody tr th {\n",
       "        vertical-align: top;\n",
       "    }\n",
       "\n",
       "    .dataframe thead th {\n",
       "        text-align: right;\n",
       "    }\n",
       "</style>\n",
       "<table border=\"1\" class=\"dataframe\">\n",
       "  <thead>\n",
       "    <tr style=\"text-align: right;\">\n",
       "      <th></th>\n",
       "      <th>zpid</th>\n",
       "      <th>city</th>\n",
       "      <th>streetAddress</th>\n",
       "      <th>zipcode</th>\n",
       "      <th>description</th>\n",
       "      <th>latitude</th>\n",
       "      <th>longitude</th>\n",
       "      <th>propertyTaxRate</th>\n",
       "      <th>garageSpaces</th>\n",
       "      <th>hasAssociation</th>\n",
       "      <th>...</th>\n",
       "      <th>numOfMiddleSchools</th>\n",
       "      <th>numOfHighSchools</th>\n",
       "      <th>avgSchoolDistance</th>\n",
       "      <th>avgSchoolRating</th>\n",
       "      <th>avgSchoolSize</th>\n",
       "      <th>MedianStudentsPerTeacher</th>\n",
       "      <th>numOfBathrooms</th>\n",
       "      <th>numOfBedrooms</th>\n",
       "      <th>numOfStories</th>\n",
       "      <th>homeImage</th>\n",
       "    </tr>\n",
       "  </thead>\n",
       "  <tbody>\n",
       "    <tr>\n",
       "      <th>0</th>\n",
       "      <td>111373431</td>\n",
       "      <td>pflugerville</td>\n",
       "      <td>14424 Lake Victor Dr</td>\n",
       "      <td>78660</td>\n",
       "      <td>14424 Lake Victor Dr, Pflugerville, TX 78660 i...</td>\n",
       "      <td>30.43</td>\n",
       "      <td>-97.66</td>\n",
       "      <td>1.98</td>\n",
       "      <td>2</td>\n",
       "      <td>True</td>\n",
       "      <td>...</td>\n",
       "      <td>1</td>\n",
       "      <td>1</td>\n",
       "      <td>1</td>\n",
       "      <td>3</td>\n",
       "      <td>1063</td>\n",
       "      <td>14</td>\n",
       "      <td>3</td>\n",
       "      <td>4</td>\n",
       "      <td>2</td>\n",
       "      <td>111373431_ffce26843283d3365c11d81b8e6bdc6f-p_f...</td>\n",
       "    </tr>\n",
       "    <tr>\n",
       "      <th>1</th>\n",
       "      <td>120900430</td>\n",
       "      <td>pflugerville</td>\n",
       "      <td>1104 Strickling Dr</td>\n",
       "      <td>78660</td>\n",
       "      <td>Absolutely GORGEOUS 4 Bedroom home with 2 full...</td>\n",
       "      <td>30.43</td>\n",
       "      <td>-97.66</td>\n",
       "      <td>1.98</td>\n",
       "      <td>2</td>\n",
       "      <td>True</td>\n",
       "      <td>...</td>\n",
       "      <td>1</td>\n",
       "      <td>1</td>\n",
       "      <td>1</td>\n",
       "      <td>3</td>\n",
       "      <td>1063</td>\n",
       "      <td>14</td>\n",
       "      <td>2</td>\n",
       "      <td>4</td>\n",
       "      <td>1</td>\n",
       "      <td>120900430_8255c127be8dcf0a1a18b7563d987088-p_f...</td>\n",
       "    </tr>\n",
       "    <tr>\n",
       "      <th>2</th>\n",
       "      <td>2084491383</td>\n",
       "      <td>pflugerville</td>\n",
       "      <td>1408 Fort Dessau Rd</td>\n",
       "      <td>78660</td>\n",
       "      <td>Under construction - estimated completion in A...</td>\n",
       "      <td>30.41</td>\n",
       "      <td>-97.64</td>\n",
       "      <td>1.98</td>\n",
       "      <td>0</td>\n",
       "      <td>True</td>\n",
       "      <td>...</td>\n",
       "      <td>1</td>\n",
       "      <td>1</td>\n",
       "      <td>1</td>\n",
       "      <td>3</td>\n",
       "      <td>1108</td>\n",
       "      <td>14</td>\n",
       "      <td>2</td>\n",
       "      <td>3</td>\n",
       "      <td>1</td>\n",
       "      <td>2084491383_a2ad649e1a7a098111dcea084a11c855-p_...</td>\n",
       "    </tr>\n",
       "    <tr>\n",
       "      <th>3</th>\n",
       "      <td>120901374</td>\n",
       "      <td>pflugerville</td>\n",
       "      <td>1025 Strickling Dr</td>\n",
       "      <td>78660</td>\n",
       "      <td>Absolutely darling one story home in charming ...</td>\n",
       "      <td>30.43</td>\n",
       "      <td>-97.66</td>\n",
       "      <td>1.98</td>\n",
       "      <td>2</td>\n",
       "      <td>True</td>\n",
       "      <td>...</td>\n",
       "      <td>1</td>\n",
       "      <td>1</td>\n",
       "      <td>1</td>\n",
       "      <td>3</td>\n",
       "      <td>1063</td>\n",
       "      <td>14</td>\n",
       "      <td>2</td>\n",
       "      <td>3</td>\n",
       "      <td>1</td>\n",
       "      <td>120901374_b469367a619da85b1f5ceb69b675d88e-p_f...</td>\n",
       "    </tr>\n",
       "    <tr>\n",
       "      <th>4</th>\n",
       "      <td>60134862</td>\n",
       "      <td>pflugerville</td>\n",
       "      <td>15005 Donna Jane Loop</td>\n",
       "      <td>78660</td>\n",
       "      <td>Brimming with appeal &amp; warm livability! Sleek ...</td>\n",
       "      <td>30.44</td>\n",
       "      <td>-97.66</td>\n",
       "      <td>1.98</td>\n",
       "      <td>0</td>\n",
       "      <td>True</td>\n",
       "      <td>...</td>\n",
       "      <td>1</td>\n",
       "      <td>1</td>\n",
       "      <td>1</td>\n",
       "      <td>4</td>\n",
       "      <td>1223</td>\n",
       "      <td>14</td>\n",
       "      <td>3</td>\n",
       "      <td>3</td>\n",
       "      <td>2</td>\n",
       "      <td>60134862_b1a48a3df3f111e005bb913873e98ce2-p_f.jpg</td>\n",
       "    </tr>\n",
       "  </tbody>\n",
       "</table>\n",
       "<p>5 rows × 47 columns</p>\n",
       "</div>"
      ],
      "text/plain": [
       "         zpid          city          streetAddress  zipcode  \\\n",
       "0   111373431  pflugerville   14424 Lake Victor Dr    78660   \n",
       "1   120900430  pflugerville     1104 Strickling Dr    78660   \n",
       "2  2084491383  pflugerville    1408 Fort Dessau Rd    78660   \n",
       "3   120901374  pflugerville     1025 Strickling Dr    78660   \n",
       "4    60134862  pflugerville  15005 Donna Jane Loop    78660   \n",
       "\n",
       "                                         description  latitude  longitude  \\\n",
       "0  14424 Lake Victor Dr, Pflugerville, TX 78660 i...     30.43     -97.66   \n",
       "1  Absolutely GORGEOUS 4 Bedroom home with 2 full...     30.43     -97.66   \n",
       "2  Under construction - estimated completion in A...     30.41     -97.64   \n",
       "3  Absolutely darling one story home in charming ...     30.43     -97.66   \n",
       "4  Brimming with appeal & warm livability! Sleek ...     30.44     -97.66   \n",
       "\n",
       "   propertyTaxRate  garageSpaces  hasAssociation  ...  numOfMiddleSchools  \\\n",
       "0             1.98             2            True  ...                   1   \n",
       "1             1.98             2            True  ...                   1   \n",
       "2             1.98             0            True  ...                   1   \n",
       "3             1.98             2            True  ...                   1   \n",
       "4             1.98             0            True  ...                   1   \n",
       "\n",
       "   numOfHighSchools  avgSchoolDistance  avgSchoolRating  avgSchoolSize  \\\n",
       "0                 1                  1                3           1063   \n",
       "1                 1                  1                3           1063   \n",
       "2                 1                  1                3           1108   \n",
       "3                 1                  1                3           1063   \n",
       "4                 1                  1                4           1223   \n",
       "\n",
       "  MedianStudentsPerTeacher  numOfBathrooms  numOfBedrooms  numOfStories  \\\n",
       "0                       14               3              4             2   \n",
       "1                       14               2              4             1   \n",
       "2                       14               2              3             1   \n",
       "3                       14               2              3             1   \n",
       "4                       14               3              3             2   \n",
       "\n",
       "                                           homeImage  \n",
       "0  111373431_ffce26843283d3365c11d81b8e6bdc6f-p_f...  \n",
       "1  120900430_8255c127be8dcf0a1a18b7563d987088-p_f...  \n",
       "2  2084491383_a2ad649e1a7a098111dcea084a11c855-p_...  \n",
       "3  120901374_b469367a619da85b1f5ceb69b675d88e-p_f...  \n",
       "4  60134862_b1a48a3df3f111e005bb913873e98ce2-p_f.jpg  \n",
       "\n",
       "[5 rows x 47 columns]"
      ]
     },
     "execution_count": 4,
     "metadata": {},
     "output_type": "execute_result"
    }
   ],
   "source": [
    "#print the first several rows of the data\n",
    "AustinhousepriceMasterdata.head()"
   ]
  },
  {
   "cell_type": "code",
   "execution_count": 5,
   "id": "2cc3cef3",
   "metadata": {},
   "outputs": [
    {
     "data": {
      "text/plain": [
       "zpid                            int64\n",
       "city                           object\n",
       "streetAddress                  object\n",
       "zipcode                         int64\n",
       "description                    object\n",
       "latitude                      float64\n",
       "longitude                     float64\n",
       "propertyTaxRate               float64\n",
       "garageSpaces                    int64\n",
       "hasAssociation                   bool\n",
       "hasCooling                       bool\n",
       "hasGarage                        bool\n",
       "hasHeating                       bool\n",
       "hasSpa                           bool\n",
       "hasView                          bool\n",
       "homeType                       object\n",
       "parkingSpaces                   int64\n",
       "yearBuilt                       int64\n",
       "latestPrice                     int64\n",
       "numPriceChanges                 int64\n",
       "latest_saledate                object\n",
       "latest_salemonth                int64\n",
       "latest_saleyear                 int64\n",
       "latestPriceSource              object\n",
       "numOfPhotos                     int64\n",
       "numOfAccessibilityFeatures      int64\n",
       "numOfAppliances                 int64\n",
       "numOfParkingFeatures            int64\n",
       "numOfPatioAndPorchFeatures      int64\n",
       "numOfSecurityFeatures           int64\n",
       "numOfWaterfrontFeatures         int64\n",
       "numOfWindowFeatures             int64\n",
       "numOfCommunityFeatures          int64\n",
       "lotSizeSqFt                   float64\n",
       "livingAreaSqFt                float64\n",
       "numOfPrimarySchools             int64\n",
       "numOfElementarySchools          int64\n",
       "numOfMiddleSchools              int64\n",
       "numOfHighSchools                int64\n",
       "avgSchoolDistance               int64\n",
       "avgSchoolRating                 int64\n",
       "avgSchoolSize                   int64\n",
       "MedianStudentsPerTeacher        int64\n",
       "numOfBathrooms                  int64\n",
       "numOfBedrooms                   int64\n",
       "numOfStories                    int64\n",
       "homeImage                      object\n",
       "dtype: object"
      ]
     },
     "execution_count": 5,
     "metadata": {},
     "output_type": "execute_result"
    }
   ],
   "source": [
    "#Find datatypes by column for the Austingnouse price data set\n",
    "AustinhousepriceMasterdata.dtypes"
   ]
  },
  {
   "cell_type": "code",
   "execution_count": 6,
   "id": "08f9ee30",
   "metadata": {},
   "outputs": [
    {
     "data": {
      "text/plain": [
       "Single Family            0.938699\n",
       "Condo                    0.030980\n",
       "Townhouse                0.011469\n",
       "Multiple Occupancy       0.006328\n",
       "Vacant Land              0.005471\n",
       "Residential              0.002439\n",
       "Apartment                0.002439\n",
       "Mobile / Manufactured    0.001121\n",
       "MultiFamily              0.000659\n",
       "Other                    0.000395\n",
       "Name: homeType, dtype: float64"
      ]
     },
     "execution_count": 6,
     "metadata": {},
     "output_type": "execute_result"
    }
   ],
   "source": [
    "#Checking home type\n",
    "AustinhousepriceMasterdata['homeType'].value_counts(normalize=True)"
   ]
  },
  {
   "cell_type": "code",
   "execution_count": 7,
   "id": "f5af1b77",
   "metadata": {},
   "outputs": [
    {
     "data": {
      "text/html": [
       "<div>\n",
       "<style scoped>\n",
       "    .dataframe tbody tr th:only-of-type {\n",
       "        vertical-align: middle;\n",
       "    }\n",
       "\n",
       "    .dataframe tbody tr th {\n",
       "        vertical-align: top;\n",
       "    }\n",
       "\n",
       "    .dataframe thead th {\n",
       "        text-align: right;\n",
       "    }\n",
       "</style>\n",
       "<table border=\"1\" class=\"dataframe\">\n",
       "  <thead>\n",
       "    <tr style=\"text-align: right;\">\n",
       "      <th></th>\n",
       "      <th>zpid</th>\n",
       "      <th>city</th>\n",
       "      <th>streetAddress</th>\n",
       "      <th>zipcode</th>\n",
       "      <th>description</th>\n",
       "      <th>latitude</th>\n",
       "      <th>longitude</th>\n",
       "      <th>propertyTaxRate</th>\n",
       "      <th>garageSpaces</th>\n",
       "      <th>hasAssociation</th>\n",
       "      <th>...</th>\n",
       "      <th>numOfMiddleSchools</th>\n",
       "      <th>numOfHighSchools</th>\n",
       "      <th>avgSchoolDistance</th>\n",
       "      <th>avgSchoolRating</th>\n",
       "      <th>avgSchoolSize</th>\n",
       "      <th>MedianStudentsPerTeacher</th>\n",
       "      <th>numOfBathrooms</th>\n",
       "      <th>numOfBedrooms</th>\n",
       "      <th>numOfStories</th>\n",
       "      <th>homeImage</th>\n",
       "    </tr>\n",
       "  </thead>\n",
       "  <tbody>\n",
       "    <tr>\n",
       "      <th>0</th>\n",
       "      <td>111373431</td>\n",
       "      <td>pflugerville</td>\n",
       "      <td>14424 Lake Victor Dr</td>\n",
       "      <td>78660</td>\n",
       "      <td>14424 Lake Victor Dr, Pflugerville, TX 78660 i...</td>\n",
       "      <td>30.43</td>\n",
       "      <td>-97.66</td>\n",
       "      <td>1.98</td>\n",
       "      <td>2</td>\n",
       "      <td>1</td>\n",
       "      <td>...</td>\n",
       "      <td>1</td>\n",
       "      <td>1</td>\n",
       "      <td>1</td>\n",
       "      <td>3</td>\n",
       "      <td>1063</td>\n",
       "      <td>14</td>\n",
       "      <td>3</td>\n",
       "      <td>4</td>\n",
       "      <td>2</td>\n",
       "      <td>111373431_ffce26843283d3365c11d81b8e6bdc6f-p_f...</td>\n",
       "    </tr>\n",
       "    <tr>\n",
       "      <th>1</th>\n",
       "      <td>120900430</td>\n",
       "      <td>pflugerville</td>\n",
       "      <td>1104 Strickling Dr</td>\n",
       "      <td>78660</td>\n",
       "      <td>Absolutely GORGEOUS 4 Bedroom home with 2 full...</td>\n",
       "      <td>30.43</td>\n",
       "      <td>-97.66</td>\n",
       "      <td>1.98</td>\n",
       "      <td>2</td>\n",
       "      <td>1</td>\n",
       "      <td>...</td>\n",
       "      <td>1</td>\n",
       "      <td>1</td>\n",
       "      <td>1</td>\n",
       "      <td>3</td>\n",
       "      <td>1063</td>\n",
       "      <td>14</td>\n",
       "      <td>2</td>\n",
       "      <td>4</td>\n",
       "      <td>1</td>\n",
       "      <td>120900430_8255c127be8dcf0a1a18b7563d987088-p_f...</td>\n",
       "    </tr>\n",
       "    <tr>\n",
       "      <th>2</th>\n",
       "      <td>2084491383</td>\n",
       "      <td>pflugerville</td>\n",
       "      <td>1408 Fort Dessau Rd</td>\n",
       "      <td>78660</td>\n",
       "      <td>Under construction - estimated completion in A...</td>\n",
       "      <td>30.41</td>\n",
       "      <td>-97.64</td>\n",
       "      <td>1.98</td>\n",
       "      <td>0</td>\n",
       "      <td>1</td>\n",
       "      <td>...</td>\n",
       "      <td>1</td>\n",
       "      <td>1</td>\n",
       "      <td>1</td>\n",
       "      <td>3</td>\n",
       "      <td>1108</td>\n",
       "      <td>14</td>\n",
       "      <td>2</td>\n",
       "      <td>3</td>\n",
       "      <td>1</td>\n",
       "      <td>2084491383_a2ad649e1a7a098111dcea084a11c855-p_...</td>\n",
       "    </tr>\n",
       "    <tr>\n",
       "      <th>3</th>\n",
       "      <td>120901374</td>\n",
       "      <td>pflugerville</td>\n",
       "      <td>1025 Strickling Dr</td>\n",
       "      <td>78660</td>\n",
       "      <td>Absolutely darling one story home in charming ...</td>\n",
       "      <td>30.43</td>\n",
       "      <td>-97.66</td>\n",
       "      <td>1.98</td>\n",
       "      <td>2</td>\n",
       "      <td>1</td>\n",
       "      <td>...</td>\n",
       "      <td>1</td>\n",
       "      <td>1</td>\n",
       "      <td>1</td>\n",
       "      <td>3</td>\n",
       "      <td>1063</td>\n",
       "      <td>14</td>\n",
       "      <td>2</td>\n",
       "      <td>3</td>\n",
       "      <td>1</td>\n",
       "      <td>120901374_b469367a619da85b1f5ceb69b675d88e-p_f...</td>\n",
       "    </tr>\n",
       "    <tr>\n",
       "      <th>4</th>\n",
       "      <td>60134862</td>\n",
       "      <td>pflugerville</td>\n",
       "      <td>15005 Donna Jane Loop</td>\n",
       "      <td>78660</td>\n",
       "      <td>Brimming with appeal &amp; warm livability! Sleek ...</td>\n",
       "      <td>30.44</td>\n",
       "      <td>-97.66</td>\n",
       "      <td>1.98</td>\n",
       "      <td>0</td>\n",
       "      <td>1</td>\n",
       "      <td>...</td>\n",
       "      <td>1</td>\n",
       "      <td>1</td>\n",
       "      <td>1</td>\n",
       "      <td>4</td>\n",
       "      <td>1223</td>\n",
       "      <td>14</td>\n",
       "      <td>3</td>\n",
       "      <td>3</td>\n",
       "      <td>2</td>\n",
       "      <td>60134862_b1a48a3df3f111e005bb913873e98ce2-p_f.jpg</td>\n",
       "    </tr>\n",
       "  </tbody>\n",
       "</table>\n",
       "<p>5 rows × 47 columns</p>\n",
       "</div>"
      ],
      "text/plain": [
       "         zpid          city          streetAddress  zipcode  \\\n",
       "0   111373431  pflugerville   14424 Lake Victor Dr    78660   \n",
       "1   120900430  pflugerville     1104 Strickling Dr    78660   \n",
       "2  2084491383  pflugerville    1408 Fort Dessau Rd    78660   \n",
       "3   120901374  pflugerville     1025 Strickling Dr    78660   \n",
       "4    60134862  pflugerville  15005 Donna Jane Loop    78660   \n",
       "\n",
       "                                         description  latitude  longitude  \\\n",
       "0  14424 Lake Victor Dr, Pflugerville, TX 78660 i...     30.43     -97.66   \n",
       "1  Absolutely GORGEOUS 4 Bedroom home with 2 full...     30.43     -97.66   \n",
       "2  Under construction - estimated completion in A...     30.41     -97.64   \n",
       "3  Absolutely darling one story home in charming ...     30.43     -97.66   \n",
       "4  Brimming with appeal & warm livability! Sleek ...     30.44     -97.66   \n",
       "\n",
       "   propertyTaxRate  garageSpaces  hasAssociation  ...  numOfMiddleSchools  \\\n",
       "0             1.98             2               1  ...                   1   \n",
       "1             1.98             2               1  ...                   1   \n",
       "2             1.98             0               1  ...                   1   \n",
       "3             1.98             2               1  ...                   1   \n",
       "4             1.98             0               1  ...                   1   \n",
       "\n",
       "   numOfHighSchools  avgSchoolDistance  avgSchoolRating  avgSchoolSize  \\\n",
       "0                 1                  1                3           1063   \n",
       "1                 1                  1                3           1063   \n",
       "2                 1                  1                3           1108   \n",
       "3                 1                  1                3           1063   \n",
       "4                 1                  1                4           1223   \n",
       "\n",
       "  MedianStudentsPerTeacher  numOfBathrooms  numOfBedrooms  numOfStories  \\\n",
       "0                       14               3              4             2   \n",
       "1                       14               2              4             1   \n",
       "2                       14               2              3             1   \n",
       "3                       14               2              3             1   \n",
       "4                       14               3              3             2   \n",
       "\n",
       "                                           homeImage  \n",
       "0  111373431_ffce26843283d3365c11d81b8e6bdc6f-p_f...  \n",
       "1  120900430_8255c127be8dcf0a1a18b7563d987088-p_f...  \n",
       "2  2084491383_a2ad649e1a7a098111dcea084a11c855-p_...  \n",
       "3  120901374_b469367a619da85b1f5ceb69b675d88e-p_f...  \n",
       "4  60134862_b1a48a3df3f111e005bb913873e98ce2-p_f.jpg  \n",
       "\n",
       "[5 rows x 47 columns]"
      ]
     },
     "execution_count": 7,
     "metadata": {},
     "output_type": "execute_result"
    }
   ],
   "source": [
    "# Convert all boolean variables to numerical values\n",
    "AustinhousepriceMasterdata.replace({False: 0, True: 1}, inplace=True)\n",
    "AustinhousepriceMasterdata.head()"
   ]
  },
  {
   "cell_type": "code",
   "execution_count": 8,
   "id": "8783b46e",
   "metadata": {},
   "outputs": [
    {
     "data": {
      "text/plain": [
       "(14241, 47)"
      ]
     },
     "execution_count": 8,
     "metadata": {},
     "output_type": "execute_result"
    }
   ],
   "source": [
    "# Remove all home types other than single family since single family constitutes more than 90 percent of our dataset.\n",
    "Cleandata = AustinhousepriceMasterdata.loc[(AustinhousepriceMasterdata['homeType'] == 'Single Family') ]\n",
    "Cleandata.shape"
   ]
  },
  {
   "cell_type": "markdown",
   "id": "7ecde3d7",
   "metadata": {},
   "source": [
    "After including only single family types, now there are 14241 rows and 47 columns in the dataset"
   ]
  },
  {
   "cell_type": "code",
   "execution_count": 9,
   "id": "1783da6d",
   "metadata": {},
   "outputs": [
    {
     "data": {
      "text/plain": [
       "zpid                            int64\n",
       "city                           object\n",
       "streetAddress                  object\n",
       "zipcode                         int64\n",
       "description                    object\n",
       "latitude                      float64\n",
       "longitude                     float64\n",
       "propertyTaxRate               float64\n",
       "garageSpaces                    int64\n",
       "hasAssociation                  int64\n",
       "hasCooling                      int64\n",
       "hasGarage                       int64\n",
       "hasHeating                      int64\n",
       "hasSpa                          int64\n",
       "hasView                         int64\n",
       "homeType                       object\n",
       "parkingSpaces                   int64\n",
       "yearBuilt                       int64\n",
       "latestPrice                     int64\n",
       "numPriceChanges                 int64\n",
       "latest_saledate                object\n",
       "latest_salemonth                int64\n",
       "latest_saleyear                 int64\n",
       "latestPriceSource              object\n",
       "numOfPhotos                     int64\n",
       "numOfAccessibilityFeatures      int64\n",
       "numOfAppliances                 int64\n",
       "numOfParkingFeatures            int64\n",
       "numOfPatioAndPorchFeatures      int64\n",
       "numOfSecurityFeatures           int64\n",
       "numOfWaterfrontFeatures         int64\n",
       "numOfWindowFeatures             int64\n",
       "numOfCommunityFeatures          int64\n",
       "lotSizeSqFt                   float64\n",
       "livingAreaSqFt                float64\n",
       "numOfPrimarySchools             int64\n",
       "numOfElementarySchools          int64\n",
       "numOfMiddleSchools              int64\n",
       "numOfHighSchools                int64\n",
       "avgSchoolDistance               int64\n",
       "avgSchoolRating                 int64\n",
       "avgSchoolSize                   int64\n",
       "MedianStudentsPerTeacher        int64\n",
       "numOfBathrooms                  int64\n",
       "numOfBedrooms                   int64\n",
       "numOfStories                    int64\n",
       "homeImage                      object\n",
       "dtype: object"
      ]
     },
     "execution_count": 9,
     "metadata": {},
     "output_type": "execute_result"
    }
   ],
   "source": [
    "#Finding the type of the data\n",
    "Cleandata.dtypes"
   ]
  },
  {
   "cell_type": "markdown",
   "id": "bd5e73ce",
   "metadata": {},
   "source": [
    "# Section 4:Checking for Missing values"
   ]
  },
  {
   "cell_type": "code",
   "execution_count": 10,
   "id": "6b7161dd",
   "metadata": {},
   "outputs": [
    {
     "data": {
      "text/plain": [
       "zpid                          0\n",
       "city                          0\n",
       "streetAddress                 0\n",
       "zipcode                       0\n",
       "description                   0\n",
       "latitude                      0\n",
       "longitude                     0\n",
       "propertyTaxRate               0\n",
       "garageSpaces                  0\n",
       "hasAssociation                0\n",
       "hasCooling                    0\n",
       "hasGarage                     0\n",
       "hasHeating                    0\n",
       "hasSpa                        0\n",
       "hasView                       0\n",
       "homeType                      0\n",
       "parkingSpaces                 0\n",
       "yearBuilt                     0\n",
       "latestPrice                   0\n",
       "numPriceChanges               0\n",
       "latest_saledate               0\n",
       "latest_salemonth              0\n",
       "latest_saleyear               0\n",
       "latestPriceSource             0\n",
       "numOfPhotos                   0\n",
       "numOfAccessibilityFeatures    0\n",
       "numOfAppliances               0\n",
       "numOfParkingFeatures          0\n",
       "numOfPatioAndPorchFeatures    0\n",
       "numOfSecurityFeatures         0\n",
       "numOfWaterfrontFeatures       0\n",
       "numOfWindowFeatures           0\n",
       "numOfCommunityFeatures        0\n",
       "lotSizeSqFt                   0\n",
       "livingAreaSqFt                0\n",
       "numOfPrimarySchools           0\n",
       "numOfElementarySchools        0\n",
       "numOfMiddleSchools            0\n",
       "numOfHighSchools              0\n",
       "avgSchoolDistance             0\n",
       "avgSchoolRating               0\n",
       "avgSchoolSize                 0\n",
       "MedianStudentsPerTeacher      0\n",
       "numOfBathrooms                0\n",
       "numOfBedrooms                 0\n",
       "numOfStories                  0\n",
       "homeImage                     0\n",
       "dtype: int64"
      ]
     },
     "execution_count": 10,
     "metadata": {},
     "output_type": "execute_result"
    }
   ],
   "source": [
    "#Count (using `.sum()`) the number of missing values (`.isnull()`) in each column of \n",
    "#Cleandata \n",
    "missing =Cleandata.isnull().sum(axis=0)\n",
    "missing"
   ]
  },
  {
   "cell_type": "markdown",
   "id": "3c96728b",
   "metadata": {},
   "source": [
    "There are no missing values"
   ]
  },
  {
   "cell_type": "markdown",
   "id": "b373d013",
   "metadata": {},
   "source": [
    "# Section 5: Checking for Duplicates"
   ]
  },
  {
   "cell_type": "code",
   "execution_count": 11,
   "id": "e612da7f",
   "metadata": {},
   "outputs": [
    {
     "data": {
      "text/plain": [
       "0"
      ]
     },
     "execution_count": 11,
     "metadata": {},
     "output_type": "execute_result"
    }
   ],
   "source": [
    "Cleandata.duplicated().sum()"
   ]
  },
  {
   "cell_type": "markdown",
   "id": "3c5ba72e",
   "metadata": {},
   "source": [
    "There are no duplicate values"
   ]
  },
  {
   "cell_type": "markdown",
   "id": "d006e9fb",
   "metadata": {},
   "source": [
    "# Section 6:Detecting Outliers"
   ]
  },
  {
   "cell_type": "code",
   "execution_count": 12,
   "id": "56b24e67",
   "metadata": {},
   "outputs": [
    {
     "data": {
      "text/plain": [
       "<AxesSubplot:xlabel='latestPrice'>"
      ]
     },
     "execution_count": 12,
     "metadata": {},
     "output_type": "execute_result"
    },
    {
     "data": {
      "image/png": "[encoded data removed]",
      "text/plain": [
       "<Figure size 432x288 with 1 Axes>"
      ]
     },
     "metadata": {
      "needs_background": "light"
     },
     "output_type": "display_data"
    }
   ],
   "source": [
    "#To find the outliers in price values\n",
    "sns.boxplot( x=Cleandata[\"latestPrice\"])"
   ]
  },
  {
   "cell_type": "markdown",
   "id": "f241e90d",
   "metadata": {},
   "source": [
    "The boxplot is showing strange features.Since price  will be the dependent variable, this needs to be analyzed in more detail.Hence to analyze the price in detail, we use the describe function in Python"
   ]
  },
  {
   "cell_type": "code",
   "execution_count": 13,
   "id": "5520c8d3",
   "metadata": {},
   "outputs": [
    {
     "data": {
      "text/plain": [
       "count    1.424100e+04\n",
       "mean     5.163879e+05\n",
       "std      4.469692e+05\n",
       "min      5.500000e+03\n",
       "25%      3.100000e+05\n",
       "50%      4.099000e+05\n",
       "75%      5.750000e+05\n",
       "max      1.350000e+07\n",
       "Name: latestPrice, dtype: float64"
      ]
     },
     "execution_count": 13,
     "metadata": {},
     "output_type": "execute_result"
    }
   ],
   "source": [
    "Cleandata['latestPrice'].describe()"
   ]
  },
  {
   "cell_type": "code",
   "execution_count": 14,
   "id": "8c274b5d",
   "metadata": {},
   "outputs": [
    {
     "name": "stdout",
     "output_type": "stream",
     "text": [
      "5500\n"
     ]
    }
   ],
   "source": [
    "#To understand the maximum value in decimal \n",
    "from decimal import Decimal\n",
    "\n",
    "min =5.500000e+03\n",
    "\n",
    "print(Decimal(min)) "
   ]
  },
  {
   "cell_type": "markdown",
   "id": "36c132b0",
   "metadata": {},
   "source": [
    "5500 is the minimum value for Price"
   ]
  },
  {
   "cell_type": "code",
   "execution_count": 15,
   "id": "fd56db38",
   "metadata": {},
   "outputs": [
    {
     "name": "stdout",
     "output_type": "stream",
     "text": [
      "13500000\n"
     ]
    }
   ],
   "source": [
    "#To find the maximum value in Decimal\n",
    "max=1.350000e+07\n",
    "print(Decimal(max))"
   ]
  },
  {
   "cell_type": "markdown",
   "id": "6a524a7b",
   "metadata": {},
   "source": [
    "13500000 is the maximum value for Price"
   ]
  },
  {
   "cell_type": "code",
   "execution_count": 16,
   "id": "0d7553de",
   "metadata": {},
   "outputs": [
    {
     "name": "stdout",
     "output_type": "stream",
     "text": [
      "446969.2000000000116415321826934814453125\n"
     ]
    }
   ],
   "source": [
    "#To find the standard deviation in decimal\n",
    "std=4.469692e+05\n",
    "print(Decimal(std))"
   ]
  },
  {
   "cell_type": "markdown",
   "id": "0482ef10",
   "metadata": {},
   "source": [
    "446969.2000000000116415321826934814453125 is the standard deviation of Price"
   ]
  },
  {
   "cell_type": "code",
   "execution_count": 17,
   "id": "87862ab9",
   "metadata": {},
   "outputs": [
    {
     "name": "stderr",
     "output_type": "stream",
     "text": [
      "C:\\Users\\leksh\\anaconda3\\lib\\site-packages\\pandas\\core\\frame.py:4308: SettingWithCopyWarning: \n",
      "A value is trying to be set on a copy of a slice from a DataFrame\n",
      "\n",
      "See the caveats in the documentation: https://pandas.pydata.org/pandas-docs/stable/user_guide/indexing.html#returning-a-view-versus-a-copy\n",
      "  return super().drop(\n"
     ]
    },
    {
     "data": {
      "text/plain": [
       "(13720, 47)"
      ]
     },
     "execution_count": 17,
     "metadata": {},
     "output_type": "execute_result"
    }
   ],
   "source": [
    "#Remove all the rows where price value is greater than  three times the standard deviation\n",
    "Cleandata.drop(Cleandata[Cleandata['latestPrice']>3*446969.2000000000116415321826934814453125].index , inplace=True)\n",
    "Cleandata.shape"
   ]
  },
  {
   "cell_type": "markdown",
   "id": "a1e50d07",
   "metadata": {},
   "source": [
    "The new data set has 13720 rows and 47 columns"
   ]
  },
  {
   "cell_type": "code",
   "execution_count": 18,
   "id": "22631cfe",
   "metadata": {},
   "outputs": [
    {
     "data": {
      "text/plain": [
       "<AxesSubplot:xlabel='latestPrice'>"
      ]
     },
     "execution_count": 18,
     "metadata": {},
     "output_type": "execute_result"
    },
    {
     "data": {
      "image/png": "[encoded data removed]",
      "text/plain": [
       "<Figure size 432x288 with 1 Axes>"
      ]
     },
     "metadata": {
      "needs_background": "light"
     },
     "output_type": "display_data"
    }
   ],
   "source": [
    "#Draw the boxplot of the new dataset\n",
    "sns.boxplot( x=Cleandata[\"latestPrice\"])"
   ]
  },
  {
   "cell_type": "markdown",
   "id": "ab5ac280",
   "metadata": {},
   "source": [
    "The new data set has most outliers removed for the Price Variable and it has a clear pattern now"
   ]
  },
  {
   "cell_type": "code",
   "execution_count": 19,
   "id": "96a9c64f",
   "metadata": {},
   "outputs": [
    {
     "data": {
      "text/plain": [
       "count    1.372000e+04\n",
       "mean     4.545738e+05\n",
       "std      2.172203e+05\n",
       "min      5.500000e+03\n",
       "25%      3.050000e+05\n",
       "50%      3.999000e+05\n",
       "75%      5.499592e+05\n",
       "max      1.327000e+06\n",
       "Name: latestPrice, dtype: float64"
      ]
     },
     "execution_count": 19,
     "metadata": {},
     "output_type": "execute_result"
    }
   ],
   "source": [
    "Cleandata['latestPrice'].describe()"
   ]
  },
  {
   "cell_type": "code",
   "execution_count": 20,
   "id": "8d502466",
   "metadata": {},
   "outputs": [
    {
     "data": {
      "text/plain": [
       "<AxesSubplot:xlabel='latitude'>"
      ]
     },
     "execution_count": 20,
     "metadata": {},
     "output_type": "execute_result"
    },
    {
     "data": {
      "image/png": "[encoded data removed]",
      "text/plain": [
       "<Figure size 432x288 with 1 Axes>"
      ]
     },
     "metadata": {
      "needs_background": "light"
     },
     "output_type": "display_data"
    }
   ],
   "source": [
    "#Find the outliers for latitude\n",
    "sns.boxplot(x=Cleandata[\"latitude\"])"
   ]
  },
  {
   "cell_type": "code",
   "execution_count": 21,
   "id": "02bfc552",
   "metadata": {},
   "outputs": [
    {
     "data": {
      "text/plain": [
       "<AxesSubplot:xlabel='longitude'>"
      ]
     },
     "execution_count": 21,
     "metadata": {},
     "output_type": "execute_result"
    },
    {
     "data": {
      "image/png": "[encoded data removed]",
      "text/plain": [
       "<Figure size 432x288 with 1 Axes>"
      ]
     },
     "metadata": {
      "needs_background": "light"
     },
     "output_type": "display_data"
    }
   ],
   "source": [
    "#Find the outliers for longitude\n",
    "sns.boxplot(x=Cleandata[\"longitude\"])\n"
   ]
  },
  {
   "cell_type": "markdown",
   "id": "bfcb0899",
   "metadata": {},
   "source": [
    "There are no outliers for both latitude and longitude"
   ]
  },
  {
   "cell_type": "code",
   "execution_count": 22,
   "id": "d5f15932",
   "metadata": {},
   "outputs": [
    {
     "data": {
      "text/plain": [
       "<AxesSubplot:xlabel='garageSpaces'>"
      ]
     },
     "execution_count": 22,
     "metadata": {},
     "output_type": "execute_result"
    },
    {
     "data": {
      "image/png": "[encoded data removed]",
      "text/plain": [
       "<Figure size 432x288 with 1 Axes>"
      ]
     },
     "metadata": {
      "needs_background": "light"
     },
     "output_type": "display_data"
    }
   ],
   "source": [
    "#Find the outliers for garage spaces\n",
    "sns.boxplot(x=Cleandata[\"garageSpaces\"])\n"
   ]
  },
  {
   "cell_type": "code",
   "execution_count": 23,
   "id": "f44da8c4",
   "metadata": {},
   "outputs": [
    {
     "data": {
      "text/plain": [
       "<AxesSubplot:xlabel='parkingSpaces'>"
      ]
     },
     "execution_count": 23,
     "metadata": {},
     "output_type": "execute_result"
    },
    {
     "data": {
      "image/png": "[encoded data removed]",
      "text/plain": [
       "<Figure size 432x288 with 1 Axes>"
      ]
     },
     "metadata": {
      "needs_background": "light"
     },
     "output_type": "display_data"
    }
   ],
   "source": [
    "#Find the outliers for parking spaces\n",
    "sns.boxplot(x=Cleandata[\"parkingSpaces\"])"
   ]
  },
  {
   "cell_type": "markdown",
   "id": "ba71d5d9",
   "metadata": {},
   "source": [
    "some outliers for parkspaces and garage spaces"
   ]
  },
  {
   "cell_type": "code",
   "execution_count": 24,
   "id": "6cdd9f28",
   "metadata": {},
   "outputs": [
    {
     "data": {
      "text/plain": [
       "<AxesSubplot:xlabel='yearBuilt'>"
      ]
     },
     "execution_count": 24,
     "metadata": {},
     "output_type": "execute_result"
    },
    {
     "data": {
      "image/png": "[encoded data removed]",
      "text/plain": [
       "<Figure size 432x288 with 1 Axes>"
      ]
     },
     "metadata": {
      "needs_background": "light"
     },
     "output_type": "display_data"
    }
   ],
   "source": [
    "#Find the outliers for year built\n",
    "sns.boxplot(x=Cleandata[\"yearBuilt\"])"
   ]
  },
  {
   "cell_type": "code",
   "execution_count": 25,
   "id": "bb51f03c",
   "metadata": {},
   "outputs": [
    {
     "data": {
      "text/plain": [
       "<AxesSubplot:xlabel='lotSizeSqFt'>"
      ]
     },
     "execution_count": 25,
     "metadata": {},
     "output_type": "execute_result"
    },
    {
     "data": {
      "image/png": "[encoded data removed]",
      "text/plain": [
       "<Figure size 432x288 with 1 Axes>"
      ]
     },
     "metadata": {
      "needs_background": "light"
     },
     "output_type": "display_data"
    }
   ],
   "source": [
    "#Find the outliers for lotSizeSq feet\n",
    "sns.boxplot(x=Cleandata[\"lotSizeSqFt\"])"
   ]
  },
  {
   "cell_type": "markdown",
   "id": "8ee56a06",
   "metadata": {},
   "source": [
    "There are no clear patterns for lotSizeSqFt, hence it is analyzed in detail using describe function"
   ]
  },
  {
   "cell_type": "code",
   "execution_count": 26,
   "id": "c2b1cb3e",
   "metadata": {},
   "outputs": [
    {
     "data": {
      "text/plain": [
       "count    1.372000e+04\n",
       "mean     1.489106e+04\n",
       "std      1.451866e+05\n",
       "min      1.130000e+02\n",
       "25%      6.577000e+03\n",
       "50%      8.276000e+03\n",
       "75%      1.080200e+04\n",
       "max      8.712000e+06\n",
       "Name: lotSizeSqFt, dtype: float64"
      ]
     },
     "execution_count": 26,
     "metadata": {},
     "output_type": "execute_result"
    }
   ],
   "source": [
    "#Find the outliers for lotSize sqfeet\n",
    "Cleandata['lotSizeSqFt'].describe()"
   ]
  },
  {
   "cell_type": "code",
   "execution_count": 27,
   "id": "4d155bc3",
   "metadata": {},
   "outputs": [
    {
     "name": "stdout",
     "output_type": "stream",
     "text": [
      "113\n"
     ]
    }
   ],
   "source": [
    "#Print minimum value of lotsizesqfeet as decimal to understand more clearly\n",
    "min= 1.130000e+02\n",
    "print(Decimal(min))"
   ]
  },
  {
   "cell_type": "code",
   "execution_count": 28,
   "id": "75622139",
   "metadata": {},
   "outputs": [
    {
     "name": "stdout",
     "output_type": "stream",
     "text": [
      "8712000\n"
     ]
    }
   ],
   "source": [
    "#Print maximum value of lotsizesqfeet as decimal to understand more clearly\n",
    "max=8.712000e+06\n",
    "print(Decimal(max))"
   ]
  },
  {
   "cell_type": "code",
   "execution_count": 29,
   "id": "69a2aa9f",
   "metadata": {},
   "outputs": [
    {
     "name": "stdout",
     "output_type": "stream",
     "text": [
      "145186.60000000000582076609134674072265625\n"
     ]
    }
   ],
   "source": [
    "##Print standard deviation of lotsizesqfeet as decimal to understand more clearly\n",
    "std= 1.451866e+05\n",
    "print(Decimal(std))"
   ]
  },
  {
   "cell_type": "code",
   "execution_count": 30,
   "id": "3b73b28b",
   "metadata": {},
   "outputs": [
    {
     "name": "stderr",
     "output_type": "stream",
     "text": [
      "C:\\Users\\leksh\\anaconda3\\lib\\site-packages\\pandas\\core\\frame.py:4308: SettingWithCopyWarning: \n",
      "A value is trying to be set on a copy of a slice from a DataFrame\n",
      "\n",
      "See the caveats in the documentation: https://pandas.pydata.org/pandas-docs/stable/user_guide/indexing.html#returning-a-view-versus-a-copy\n",
      "  return super().drop(\n"
     ]
    }
   ],
   "source": [
    "#Remove all the rows where lotsizesquare feet value is greater than  three times the standard deviation\n",
    "Cleandata.drop(Cleandata[Cleandata['lotSizeSqFt']>3*145186.60000000000582076609134674072265625].index, inplace = True)"
   ]
  },
  {
   "cell_type": "code",
   "execution_count": 31,
   "id": "ba3e9070",
   "metadata": {},
   "outputs": [
    {
     "data": {
      "text/plain": [
       "<AxesSubplot:xlabel='lotSizeSqFt'>"
      ]
     },
     "execution_count": 31,
     "metadata": {},
     "output_type": "execute_result"
    },
    {
     "data": {
      "image/png": "[encoded data removed]",
      "text/plain": [
       "<Figure size 432x288 with 1 Axes>"
      ]
     },
     "metadata": {
      "needs_background": "light"
     },
     "output_type": "display_data"
    }
   ],
   "source": [
    "#Now find the outliers of lotSize sqfeet after removing the above values\n",
    "sns.boxplot(x=Cleandata[\"lotSizeSqFt\"])"
   ]
  },
  {
   "cell_type": "markdown",
   "id": "1e88c1c1",
   "metadata": {},
   "source": [
    "Now the pattern of lotSizeSqfeet becomes clearer."
   ]
  },
  {
   "cell_type": "code",
   "execution_count": 32,
   "id": "11bbb259",
   "metadata": {},
   "outputs": [
    {
     "data": {
      "text/plain": [
       "<AxesSubplot:xlabel='numPriceChanges'>"
      ]
     },
     "execution_count": 32,
     "metadata": {},
     "output_type": "execute_result"
    },
    {
     "data": {
      "image/png": "[encoded data removed]",
      "text/plain": [
       "<Figure size 432x288 with 1 Axes>"
      ]
     },
     "metadata": {
      "needs_background": "light"
     },
     "output_type": "display_data"
    }
   ],
   "source": [
    "#Find the outliers for numProce Changes\n",
    "sns.boxplot(x=Cleandata[\"numPriceChanges\"])"
   ]
  },
  {
   "cell_type": "markdown",
   "id": "1e6531cc",
   "metadata": {},
   "source": [
    "There are some outliers for number of Price Changes"
   ]
  },
  {
   "cell_type": "code",
   "execution_count": 33,
   "id": "4f56dec8",
   "metadata": {},
   "outputs": [
    {
     "data": {
      "text/plain": [
       "<AxesSubplot:xlabel='numOfAccessibilityFeatures'>"
      ]
     },
     "execution_count": 33,
     "metadata": {},
     "output_type": "execute_result"
    },
    {
     "data": {
      "image/png": "[encoded data removed]",
      "text/plain": [
       "<Figure size 432x288 with 1 Axes>"
      ]
     },
     "metadata": {
      "needs_background": "light"
     },
     "output_type": "display_data"
    }
   ],
   "source": [
    "#Find the outliers for numof accessibility fetaures\n",
    "sns.boxplot(x=Cleandata[\"numOfAccessibilityFeatures\"])"
   ]
  },
  {
   "cell_type": "markdown",
   "id": "ba886bc8",
   "metadata": {},
   "source": [
    "There are no clear patterns for numOfAccessibilityFeatures, hence it is analyzed in detail using describe function"
   ]
  },
  {
   "cell_type": "code",
   "execution_count": 34,
   "id": "d95fffc3",
   "metadata": {},
   "outputs": [
    {
     "data": {
      "text/plain": [
       "count    13704.000000\n",
       "mean         0.013062\n",
       "std          0.183749\n",
       "min          0.000000\n",
       "25%          0.000000\n",
       "50%          0.000000\n",
       "75%          0.000000\n",
       "max          8.000000\n",
       "Name: numOfAccessibilityFeatures, dtype: float64"
      ]
     },
     "execution_count": 34,
     "metadata": {},
     "output_type": "execute_result"
    }
   ],
   "source": [
    "Cleandata['numOfAccessibilityFeatures'].describe()"
   ]
  },
  {
   "cell_type": "code",
   "execution_count": 35,
   "id": "6b6a3bfb",
   "metadata": {},
   "outputs": [
    {
     "data": {
      "text/plain": [
       "<AxesSubplot:xlabel='livingAreaSqFt'>"
      ]
     },
     "execution_count": 35,
     "metadata": {},
     "output_type": "execute_result"
    },
    {
     "data": {
      "image/png": "[encoded data removed]",
      "text/plain": [
       "<Figure size 432x288 with 1 Axes>"
      ]
     },
     "metadata": {
      "needs_background": "light"
     },
     "output_type": "display_data"
    }
   ],
   "source": [
    "#Find the outlier for livingareaSqfeet\n",
    "sns.boxplot(x=Cleandata[\"livingAreaSqFt\"])"
   ]
  },
  {
   "cell_type": "code",
   "execution_count": 36,
   "id": "3f581bf4",
   "metadata": {},
   "outputs": [
    {
     "data": {
      "text/plain": [
       "<AxesSubplot:xlabel='numOfBathrooms'>"
      ]
     },
     "execution_count": 36,
     "metadata": {},
     "output_type": "execute_result"
    },
    {
     "data": {
      "image/png": "[encoded data removed]",
      "text/plain": [
       "<Figure size 432x288 with 1 Axes>"
      ]
     },
     "metadata": {
      "needs_background": "light"
     },
     "output_type": "display_data"
    }
   ],
   "source": [
    "#Find the outlier for numof bathrooms\n",
    "sns.boxplot(x=Cleandata[\"numOfBathrooms\"])"
   ]
  },
  {
   "cell_type": "markdown",
   "id": "2fab265e",
   "metadata": {},
   "source": [
    "The above plot shows that the row with value 27 is an outlier for the number of bathrooms"
   ]
  },
  {
   "cell_type": "code",
   "execution_count": 37,
   "id": "c1bf6cd5",
   "metadata": {},
   "outputs": [
    {
     "name": "stderr",
     "output_type": "stream",
     "text": [
      "C:\\Users\\leksh\\anaconda3\\lib\\site-packages\\pandas\\core\\frame.py:4308: SettingWithCopyWarning: \n",
      "A value is trying to be set on a copy of a slice from a DataFrame\n",
      "\n",
      "See the caveats in the documentation: https://pandas.pydata.org/pandas-docs/stable/user_guide/indexing.html#returning-a-view-versus-a-copy\n",
      "  return super().drop(\n"
     ]
    }
   ],
   "source": [
    "# Remove the outlier  for num of bathrooms\n",
    "Cleandata.drop(Cleandata[Cleandata['numOfBathrooms']>=27].index, inplace = True)"
   ]
  },
  {
   "cell_type": "code",
   "execution_count": 38,
   "id": "9f4d7c93",
   "metadata": {},
   "outputs": [
    {
     "data": {
      "text/plain": [
       "<AxesSubplot:xlabel='numOfBedrooms'>"
      ]
     },
     "execution_count": 38,
     "metadata": {},
     "output_type": "execute_result"
    },
    {
     "data": {
      "image/png": "[encoded data removed]",
      "text/plain": [
       "<Figure size 432x288 with 1 Axes>"
      ]
     },
     "metadata": {
      "needs_background": "light"
     },
     "output_type": "display_data"
    }
   ],
   "source": [
    "#Find the outlier for numof bedrooms\n",
    "sns.boxplot(x=Cleandata[\"numOfBedrooms\"])"
   ]
  },
  {
   "cell_type": "code",
   "execution_count": 39,
   "id": "dc9108cb",
   "metadata": {},
   "outputs": [
    {
     "data": {
      "text/plain": [
       "count    13703.000000\n",
       "mean         3.444355\n",
       "std          0.753880\n",
       "min          0.000000\n",
       "25%          3.000000\n",
       "50%          3.000000\n",
       "75%          4.000000\n",
       "max          8.000000\n",
       "Name: numOfBedrooms, dtype: float64"
      ]
     },
     "execution_count": 39,
     "metadata": {},
     "output_type": "execute_result"
    }
   ],
   "source": [
    "Cleandata['numOfBedrooms'].describe()"
   ]
  },
  {
   "cell_type": "code",
   "execution_count": 40,
   "id": "0eaa1491",
   "metadata": {},
   "outputs": [
    {
     "data": {
      "text/plain": [
       "<AxesSubplot:xlabel='avgSchoolDistance'>"
      ]
     },
     "execution_count": 40,
     "metadata": {},
     "output_type": "execute_result"
    },
    {
     "data": {
      "image/png": "[encoded data removed]",
      "text/plain": [
       "<Figure size 432x288 with 1 Axes>"
      ]
     },
     "metadata": {
      "needs_background": "light"
     },
     "output_type": "display_data"
    }
   ],
   "source": [
    "#Find the outliers for averageschool distance\n",
    "sns.boxplot(x=Cleandata[\"avgSchoolDistance\"])"
   ]
  },
  {
   "cell_type": "markdown",
   "id": "eff90ebe",
   "metadata": {},
   "source": [
    "There are some  outliers for Number of bedrooms, number of bathrooms and average school distance"
   ]
  },
  {
   "cell_type": "code",
   "execution_count": 41,
   "id": "10ae232a",
   "metadata": {},
   "outputs": [
    {
     "data": {
      "text/plain": [
       "<AxesSubplot:xlabel='avgSchoolRating'>"
      ]
     },
     "execution_count": 41,
     "metadata": {},
     "output_type": "execute_result"
    },
    {
     "data": {
      "image/png": "[encoded data removed]",
      "text/plain": [
       "<Figure size 432x288 with 1 Axes>"
      ]
     },
     "metadata": {
      "needs_background": "light"
     },
     "output_type": "display_data"
    }
   ],
   "source": [
    "#Find teh outliers for average school rating\n",
    "sns.boxplot(x=Cleandata[\"avgSchoolRating\"])"
   ]
  },
  {
   "cell_type": "markdown",
   "id": "dd869719",
   "metadata": {},
   "source": [
    "No outlier  for average school rating"
   ]
  },
  {
   "cell_type": "code",
   "execution_count": 42,
   "id": "d07159aa",
   "metadata": {},
   "outputs": [
    {
     "data": {
      "text/plain": [
       "<AxesSubplot:xlabel='numOfCommunityFeatures'>"
      ]
     },
     "execution_count": 42,
     "metadata": {},
     "output_type": "execute_result"
    },
    {
     "data": {
      "image/png": "[encoded data removed]",
      "text/plain": [
       "<Figure size 432x288 with 1 Axes>"
      ]
     },
     "metadata": {
      "needs_background": "light"
     },
     "output_type": "display_data"
    }
   ],
   "source": [
    "#Find the outliers for Numofcommunity features\n",
    "sns.boxplot(x=Cleandata[\"numOfCommunityFeatures\"])"
   ]
  },
  {
   "cell_type": "code",
   "execution_count": 43,
   "id": "65dc3ff5",
   "metadata": {},
   "outputs": [
    {
     "data": {
      "text/plain": [
       "count    13703.000000\n",
       "mean         0.011895\n",
       "std          0.114316\n",
       "min          0.000000\n",
       "25%          0.000000\n",
       "50%          0.000000\n",
       "75%          0.000000\n",
       "max          3.000000\n",
       "Name: numOfCommunityFeatures, dtype: float64"
      ]
     },
     "execution_count": 43,
     "metadata": {},
     "output_type": "execute_result"
    }
   ],
   "source": [
    "#Since the above plot shows no clear pattern, this variable is analyzed using describe function\n",
    "Cleandata['numOfCommunityFeatures'].describe()"
   ]
  },
  {
   "cell_type": "markdown",
   "id": "716e2581",
   "metadata": {},
   "source": [
    "# Section 7:Visualizations for understanding the relationship of features with price"
   ]
  },
  {
   "cell_type": "code",
   "execution_count": 44,
   "id": "eed6f4a3",
   "metadata": {},
   "outputs": [
    {
     "data": {
      "text/plain": [
       "(13703, 47)"
      ]
     },
     "execution_count": 44,
     "metadata": {},
     "output_type": "execute_result"
    }
   ],
   "source": [
    "Cleandata.shape"
   ]
  },
  {
   "cell_type": "code",
   "execution_count": 45,
   "id": "98b2b856",
   "metadata": {},
   "outputs": [
    {
     "data": {
      "image/png": "[encoded data removed]",
      "text/plain": [
       "<Figure size 432x288 with 1 Axes>"
      ]
     },
     "metadata": {
      "needs_background": "light"
     },
     "output_type": "display_data"
    }
   ],
   "source": [
    "#Find scatterplot between zipcode and price\n",
    "plt.scatter(Cleandata[\"zipcode\"],Cleandata[\"latestPrice\"])\n",
    "plt.show()"
   ]
  },
  {
   "cell_type": "markdown",
   "id": "b1621468",
   "metadata": {},
   "source": [
    "The above plot does not show clear relation between zipcode and price since zipcode is considered a numeric variable.Hence it needs to be converted a string variable first"
   ]
  },
  {
   "cell_type": "code",
   "execution_count": 46,
   "id": "af3ef73b",
   "metadata": {},
   "outputs": [
    {
     "name": "stderr",
     "output_type": "stream",
     "text": [
      "<ipython-input-46-6745936aa28a>:3: SettingWithCopyWarning: \n",
      "A value is trying to be set on a copy of a slice from a DataFrame.\n",
      "Try using .loc[row_indexer,col_indexer] = value instead\n",
      "\n",
      "See the caveats in the documentation: https://pandas.pydata.org/pandas-docs/stable/user_guide/indexing.html#returning-a-view-versus-a-copy\n",
      "  Cleandata['zipcode'] = Cleandata['zipcode'].astype(str).str.zfill(5)\n"
     ]
    },
    {
     "data": {
      "text/plain": [
       "zpid                            int64\n",
       "city                           object\n",
       "streetAddress                  object\n",
       "zipcode                        object\n",
       "description                    object\n",
       "latitude                      float64\n",
       "longitude                     float64\n",
       "propertyTaxRate               float64\n",
       "garageSpaces                    int64\n",
       "hasAssociation                  int64\n",
       "hasCooling                      int64\n",
       "hasGarage                       int64\n",
       "hasHeating                      int64\n",
       "hasSpa                          int64\n",
       "hasView                         int64\n",
       "homeType                       object\n",
       "parkingSpaces                   int64\n",
       "yearBuilt                       int64\n",
       "latestPrice                     int64\n",
       "numPriceChanges                 int64\n",
       "latest_saledate                object\n",
       "latest_salemonth                int64\n",
       "latest_saleyear                 int64\n",
       "latestPriceSource              object\n",
       "numOfPhotos                     int64\n",
       "numOfAccessibilityFeatures      int64\n",
       "numOfAppliances                 int64\n",
       "numOfParkingFeatures            int64\n",
       "numOfPatioAndPorchFeatures      int64\n",
       "numOfSecurityFeatures           int64\n",
       "numOfWaterfrontFeatures         int64\n",
       "numOfWindowFeatures             int64\n",
       "numOfCommunityFeatures          int64\n",
       "lotSizeSqFt                   float64\n",
       "livingAreaSqFt                float64\n",
       "numOfPrimarySchools             int64\n",
       "numOfElementarySchools          int64\n",
       "numOfMiddleSchools              int64\n",
       "numOfHighSchools                int64\n",
       "avgSchoolDistance               int64\n",
       "avgSchoolRating                 int64\n",
       "avgSchoolSize                   int64\n",
       "MedianStudentsPerTeacher        int64\n",
       "numOfBathrooms                  int64\n",
       "numOfBedrooms                   int64\n",
       "numOfStories                    int64\n",
       "homeImage                      object\n",
       "dtype: object"
      ]
     },
     "execution_count": 46,
     "metadata": {},
     "output_type": "execute_result"
    }
   ],
   "source": [
    "#Convert zipcode from numeric  to string \n",
    "\n",
    "Cleandata['zipcode'] = Cleandata['zipcode'].astype(str).str.zfill(5)\n",
    "Cleandata.dtypes"
   ]
  },
  {
   "cell_type": "code",
   "execution_count": 47,
   "id": "a27274bd",
   "metadata": {},
   "outputs": [
    {
     "data": {
      "text/plain": [
       "<AxesSubplot:xlabel='zipcode', ylabel='latestPrice'>"
      ]
     },
     "execution_count": 47,
     "metadata": {},
     "output_type": "execute_result"
    },
    {
     "data": {
      "image/png": "[encoded data removed]",
      "text/plain": [
       "<Figure size 432x288 with 1 Axes>"
      ]
     },
     "metadata": {
      "needs_background": "light"
     },
     "output_type": "display_data"
    }
   ],
   "source": [
    "# Find the relation between the grouped zipcode variable and price\n",
    "sns.barplot(x=\"zipcode\", y=\"latestPrice\", data=Cleandata)"
   ]
  },
  {
   "cell_type": "markdown",
   "id": "f2a1ba6f",
   "metadata": {},
   "source": [
    "Now the above plot does not show  clear relation between zipcode and price"
   ]
  },
  {
   "cell_type": "markdown",
   "id": "9d013fed",
   "metadata": {},
   "source": [
    "We need to do some feature engineering for zip code which is discussed in the next section"
   ]
  },
  {
   "cell_type": "code",
   "execution_count": 48,
   "id": "76edf531",
   "metadata": {},
   "outputs": [
    {
     "data": {
      "image/png": "[encoded data removed]",
      "text/plain": [
       "<Figure size 432x288 with 1 Axes>"
      ]
     },
     "metadata": {
      "needs_background": "light"
     },
     "output_type": "display_data"
    }
   ],
   "source": [
    "#Find the relationship between propertytaxrate and price\n",
    "plt.scatter(Cleandata[\"propertyTaxRate\"],Cleandata[\"latestPrice\"])\n",
    "plt.show()"
   ]
  },
  {
   "cell_type": "code",
   "execution_count": 49,
   "id": "a5b04fb4",
   "metadata": {},
   "outputs": [
    {
     "data": {
      "image/png": "[encoded data removed]",
      "text/plain": [
       "<Figure size 432x288 with 1 Axes>"
      ]
     },
     "metadata": {
      "needs_background": "light"
     },
     "output_type": "display_data"
    }
   ],
   "source": [
    "#Find the rleationship between garage spaces and price\n",
    "plt.scatter(Cleandata[\"garageSpaces\"],Cleandata[\"latestPrice\" ])\n",
    "plt.show()"
   ]
  },
  {
   "cell_type": "code",
   "execution_count": 50,
   "id": "1b3a7cec",
   "metadata": {},
   "outputs": [
    {
     "data": {
      "image/png": "[encoded data removed]",
      "text/plain": [
       "<Figure size 432x288 with 1 Axes>"
      ]
     },
     "metadata": {
      "needs_background": "light"
     },
     "output_type": "display_data"
    }
   ],
   "source": [
    "#Find the relationship between parking spaces and price\n",
    "plt.scatter(Cleandata[\"parkingSpaces\"],Cleandata[\"latestPrice\"])\n",
    "plt.show()"
   ]
  },
  {
   "cell_type": "code",
   "execution_count": 51,
   "id": "6440d45d",
   "metadata": {},
   "outputs": [
    {
     "data": {
      "image/png": "[encoded data removed]",
      "text/plain": [
       "<Figure size 432x288 with 1 Axes>"
      ]
     },
     "metadata": {
      "needs_background": "light"
     },
     "output_type": "display_data"
    }
   ],
   "source": [
    "#Find the relationship between yearbuilt and price\n",
    "plt.scatter(Cleandata[\"yearBuilt\"],Cleandata[\"latestPrice\"])\n",
    "plt.show()"
   ]
  },
  {
   "cell_type": "code",
   "execution_count": 52,
   "id": "a16f278c",
   "metadata": {},
   "outputs": [
    {
     "data": {
      "image/png": "[encoded data removed]",
      "text/plain": [
       "<Figure size 432x288 with 1 Axes>"
      ]
     },
     "metadata": {
      "needs_background": "light"
     },
     "output_type": "display_data"
    }
   ],
   "source": [
    "#Find the rleationship between numPricecahnages and price\n",
    "plt.scatter(Cleandata[\"numPriceChanges\"],Cleandata[\"latestPrice\"])\n",
    "plt.show()"
   ]
  },
  {
   "cell_type": "markdown",
   "id": "852a469c",
   "metadata": {},
   "source": [
    "Garage spaces,parking spaces,year built and number of price changes are obtained to have relation with the price while property tax rate deosnt show a clear pattern. So property tax can be excluded from our model."
   ]
  },
  {
   "cell_type": "code",
   "execution_count": 53,
   "id": "b53dd50d",
   "metadata": {},
   "outputs": [
    {
     "data": {
      "text/plain": [
       "<AxesSubplot:xlabel='numOfPhotos', ylabel='latestPrice'>"
      ]
     },
     "execution_count": 53,
     "metadata": {},
     "output_type": "execute_result"
    },
    {
     "data": {
      "image/png": "[encoded data removed]",
      "text/plain": [
       "<Figure size 432x288 with 1 Axes>"
      ]
     },
     "metadata": {
      "needs_background": "light"
     },
     "output_type": "display_data"
    }
   ],
   "source": [
    "#Find the relationship between number of photos and price\n",
    "sns.barplot(x=\"numOfPhotos\", y=\"latestPrice\", data=Cleandata)"
   ]
  },
  {
   "cell_type": "markdown",
   "id": "db6a92d2",
   "metadata": {},
   "source": [
    "No clear relationship is seen between number of photos and price.So the variable needs to be regrouped which will be done in section 8."
   ]
  },
  {
   "cell_type": "code",
   "execution_count": 54,
   "id": "60465aac",
   "metadata": {},
   "outputs": [
    {
     "data": {
      "text/plain": [
       "<AxesSubplot:xlabel='numOfAccessibilityFeatures', ylabel='latestPrice'>"
      ]
     },
     "execution_count": 54,
     "metadata": {},
     "output_type": "execute_result"
    },
    {
     "data": {
      "image/png": "[encoded data removed]",
      "text/plain": [
       "<Figure size 432x288 with 1 Axes>"
      ]
     },
     "metadata": {
      "needs_background": "light"
     },
     "output_type": "display_data"
    }
   ],
   "source": [
    "#Find the relationship between number of accessibility fetaures and price\n",
    "sns.barplot(x=\"numOfAccessibilityFeatures\", y=\"latestPrice\", data=Cleandata)"
   ]
  },
  {
   "cell_type": "markdown",
   "id": "ee1f0401",
   "metadata": {},
   "source": [
    "The above  plot show clear relation between number of accessibility features and price."
   ]
  },
  {
   "cell_type": "code",
   "execution_count": 55,
   "id": "f1414ace",
   "metadata": {},
   "outputs": [
    {
     "data": {
      "text/plain": [
       "<AxesSubplot:xlabel='numOfAppliances', ylabel='latestPrice'>"
      ]
     },
     "execution_count": 55,
     "metadata": {},
     "output_type": "execute_result"
    },
    {
     "data": {
      "image/png": "[encoded data removed]",
      "text/plain": [
       "<Figure size 432x288 with 1 Axes>"
      ]
     },
     "metadata": {
      "needs_background": "light"
     },
     "output_type": "display_data"
    }
   ],
   "source": [
    "sns.barplot(x=\"numOfAppliances\", y=\"latestPrice\", data=Cleandata)"
   ]
  },
  {
   "cell_type": "code",
   "execution_count": 56,
   "id": "e1f0894b",
   "metadata": {},
   "outputs": [
    {
     "data": {
      "text/plain": [
       "<AxesSubplot:xlabel='numOfParkingFeatures', ylabel='latestPrice'>"
      ]
     },
     "execution_count": 56,
     "metadata": {},
     "output_type": "execute_result"
    },
    {
     "data": {
      "image/png": "[encoded data removed]",
      "text/plain": [
       "<Figure size 432x288 with 1 Axes>"
      ]
     },
     "metadata": {
      "needs_background": "light"
     },
     "output_type": "display_data"
    }
   ],
   "source": [
    "sns.barplot(x=\"numOfParkingFeatures\", y=\"latestPrice\", data=Cleandata)"
   ]
  },
  {
   "cell_type": "code",
   "execution_count": 57,
   "id": "e1f7869e",
   "metadata": {},
   "outputs": [
    {
     "data": {
      "text/plain": [
       "<AxesSubplot:xlabel='numOfPatioAndPorchFeatures', ylabel='latestPrice'>"
      ]
     },
     "execution_count": 57,
     "metadata": {},
     "output_type": "execute_result"
    },
    {
     "data": {
      "image/png": "[encoded data removed]",
      "text/plain": [
       "<Figure size 432x288 with 1 Axes>"
      ]
     },
     "metadata": {
      "needs_background": "light"
     },
     "output_type": "display_data"
    }
   ],
   "source": [
    "sns.barplot(x=\"numOfPatioAndPorchFeatures\", y=\"latestPrice\", data=Cleandata)"
   ]
  },
  {
   "cell_type": "markdown",
   "id": "013e0515",
   "metadata": {},
   "source": [
    "The above plots clear pattern of relationship of price with numOfAppliances,numOfParking features and numOfPatioAndPorchFeatures"
   ]
  },
  {
   "cell_type": "code",
   "execution_count": 58,
   "id": "01b321d6",
   "metadata": {},
   "outputs": [
    {
     "data": {
      "text/plain": [
       "<AxesSubplot:xlabel='numOfSecurityFeatures', ylabel='latestPrice'>"
      ]
     },
     "execution_count": 58,
     "metadata": {},
     "output_type": "execute_result"
    },
    {
     "data": {
      "image/png": "[encoded data removed]",
      "text/plain": [
       "<Figure size 432x288 with 1 Axes>"
      ]
     },
     "metadata": {
      "needs_background": "light"
     },
     "output_type": "display_data"
    }
   ],
   "source": [
    "sns.barplot(x=\"numOfSecurityFeatures\", y=\"latestPrice\", data=Cleandata)"
   ]
  },
  {
   "cell_type": "code",
   "execution_count": 59,
   "id": "59b95e6b",
   "metadata": {},
   "outputs": [
    {
     "data": {
      "text/plain": [
       "<AxesSubplot:xlabel='numOfWaterfrontFeatures', ylabel='latestPrice'>"
      ]
     },
     "execution_count": 59,
     "metadata": {},
     "output_type": "execute_result"
    },
    {
     "data": {
      "image/png": "[encoded data removed]",
      "text/plain": [
       "<Figure size 432x288 with 1 Axes>"
      ]
     },
     "metadata": {
      "needs_background": "light"
     },
     "output_type": "display_data"
    }
   ],
   "source": [
    "sns.barplot(x=\"numOfWaterfrontFeatures\", y=\"latestPrice\", data=Cleandata)"
   ]
  },
  {
   "cell_type": "code",
   "execution_count": 60,
   "id": "f5a83cc7",
   "metadata": {},
   "outputs": [
    {
     "data": {
      "text/plain": [
       "<AxesSubplot:xlabel='numOfWindowFeatures', ylabel='latestPrice'>"
      ]
     },
     "execution_count": 60,
     "metadata": {},
     "output_type": "execute_result"
    },
    {
     "data": {
      "image/png": "[encoded data removed]",
      "text/plain": [
       "<Figure size 432x288 with 1 Axes>"
      ]
     },
     "metadata": {
      "needs_background": "light"
     },
     "output_type": "display_data"
    }
   ],
   "source": [
    "sns.barplot(x=\"numOfWindowFeatures\", y=\"latestPrice\", data=Cleandata)"
   ]
  },
  {
   "cell_type": "markdown",
   "id": "990a9e89",
   "metadata": {},
   "source": [
    "The above plots clear pattern of relationship of price with numOfSecurityFeatures,numOfWaterfrontFeatures and numOfWindowFeatures"
   ]
  },
  {
   "cell_type": "code",
   "execution_count": 61,
   "id": "f5e8e32b",
   "metadata": {},
   "outputs": [
    {
     "data": {
      "image/png": "[encoded data removed]",
      "text/plain": [
       "<Figure size 432x288 with 1 Axes>"
      ]
     },
     "metadata": {
      "needs_background": "light"
     },
     "output_type": "display_data"
    }
   ],
   "source": [
    "plt.scatter(Cleandata[\"lotSizeSqFt\"],Cleandata[\"latestPrice\"])\n",
    "plt.show()"
   ]
  },
  {
   "cell_type": "code",
   "execution_count": 62,
   "id": "13f4e163",
   "metadata": {},
   "outputs": [
    {
     "data": {
      "image/png": "[encoded data removed]",
      "text/plain": [
       "<Figure size 432x288 with 1 Axes>"
      ]
     },
     "metadata": {
      "needs_background": "light"
     },
     "output_type": "display_data"
    }
   ],
   "source": [
    "plt.scatter(Cleandata[\"livingAreaSqFt\"],Cleandata[\"latestPrice\"])\n",
    "plt.show()"
   ]
  },
  {
   "cell_type": "markdown",
   "id": "132f08e3",
   "metadata": {},
   "source": [
    "Living are square feet and lotsize feet are found to have clear relation with the price"
   ]
  },
  {
   "cell_type": "code",
   "execution_count": 63,
   "id": "9e70053f",
   "metadata": {},
   "outputs": [
    {
     "data": {
      "text/plain": [
       "<AxesSubplot:xlabel='numOfBathrooms', ylabel='latestPrice'>"
      ]
     },
     "execution_count": 63,
     "metadata": {},
     "output_type": "execute_result"
    },
    {
     "data": {
      "image/png": "[encoded data removed]",
      "text/plain": [
       "<Figure size 432x288 with 1 Axes>"
      ]
     },
     "metadata": {
      "needs_background": "light"
     },
     "output_type": "display_data"
    }
   ],
   "source": [
    "sns.barplot(x=\"numOfBathrooms\", y=\"latestPrice\", data=Cleandata)\n"
   ]
  },
  {
   "cell_type": "code",
   "execution_count": 64,
   "id": "d2e0b32b",
   "metadata": {},
   "outputs": [
    {
     "data": {
      "text/plain": [
       "<AxesSubplot:xlabel='numOfBedrooms', ylabel='latestPrice'>"
      ]
     },
     "execution_count": 64,
     "metadata": {},
     "output_type": "execute_result"
    },
    {
     "data": {
      "image/png": "[encoded data removed]",
      "text/plain": [
       "<Figure size 432x288 with 1 Axes>"
      ]
     },
     "metadata": {
      "needs_background": "light"
     },
     "output_type": "display_data"
    }
   ],
   "source": [
    "sns.barplot(x=\"numOfBedrooms\", y=\"latestPrice\", data=Cleandata)\n"
   ]
  },
  {
   "cell_type": "markdown",
   "id": "7fed8f4a",
   "metadata": {},
   "source": [
    "Number of bedrooms are found to have clear relationship with price"
   ]
  },
  {
   "cell_type": "code",
   "execution_count": 65,
   "id": "0d7a6df6",
   "metadata": {},
   "outputs": [
    {
     "data": {
      "text/plain": [
       "<AxesSubplot:xlabel='numOfStories', ylabel='latestPrice'>"
      ]
     },
     "execution_count": 65,
     "metadata": {},
     "output_type": "execute_result"
    },
    {
     "data": {
      "image/png": "[encoded data removed]",
      "text/plain": [
       "<Figure size 432x288 with 1 Axes>"
      ]
     },
     "metadata": {
      "needs_background": "light"
     },
     "output_type": "display_data"
    }
   ],
   "source": [
    "sns.barplot(x=\"numOfStories\", y=\"latestPrice\", data=Cleandata)\n"
   ]
  },
  {
   "cell_type": "markdown",
   "id": "bf95d683",
   "metadata": {},
   "source": [
    "Number of stories are found to have clear relationship with the price"
   ]
  },
  {
   "cell_type": "code",
   "execution_count": 66,
   "id": "da7c1468",
   "metadata": {},
   "outputs": [
    {
     "data": {
      "text/plain": [
       "<AxesSubplot:xlabel='numOfPrimarySchools', ylabel='latestPrice'>"
      ]
     },
     "execution_count": 66,
     "metadata": {},
     "output_type": "execute_result"
    },
    {
     "data": {
      "image/png": "[encoded data removed]",
      "text/plain": [
       "<Figure size 432x288 with 1 Axes>"
      ]
     },
     "metadata": {
      "needs_background": "light"
     },
     "output_type": "display_data"
    }
   ],
   "source": [
    "sns.barplot(x=\"numOfPrimarySchools\", y=\"latestPrice\", data=Cleandata)"
   ]
  },
  {
   "cell_type": "code",
   "execution_count": 67,
   "id": "fbe69fb6",
   "metadata": {},
   "outputs": [
    {
     "data": {
      "text/plain": [
       "<AxesSubplot:xlabel='numOfElementarySchools', ylabel='latestPrice'>"
      ]
     },
     "execution_count": 67,
     "metadata": {},
     "output_type": "execute_result"
    },
    {
     "data": {
      "image/png": "[encoded data removed]",
      "text/plain": [
       "<Figure size 432x288 with 1 Axes>"
      ]
     },
     "metadata": {
      "needs_background": "light"
     },
     "output_type": "display_data"
    }
   ],
   "source": [
    "sns.barplot(x=\"numOfElementarySchools\", y=\"latestPrice\", data=Cleandata)"
   ]
  },
  {
   "cell_type": "code",
   "execution_count": 68,
   "id": "7e836424",
   "metadata": {},
   "outputs": [
    {
     "data": {
      "text/plain": [
       "<AxesSubplot:xlabel='numOfMiddleSchools', ylabel='latestPrice'>"
      ]
     },
     "execution_count": 68,
     "metadata": {},
     "output_type": "execute_result"
    },
    {
     "data": {
      "image/png": "[encoded data removed]",
      "text/plain": [
       "<Figure size 432x288 with 1 Axes>"
      ]
     },
     "metadata": {
      "needs_background": "light"
     },
     "output_type": "display_data"
    }
   ],
   "source": [
    "sns.barplot(x=\"numOfMiddleSchools\", y=\"latestPrice\", data=Cleandata)"
   ]
  },
  {
   "cell_type": "code",
   "execution_count": 69,
   "id": "405b19ad",
   "metadata": {},
   "outputs": [
    {
     "data": {
      "text/plain": [
       "<AxesSubplot:xlabel='numOfHighSchools', ylabel='latestPrice'>"
      ]
     },
     "execution_count": 69,
     "metadata": {},
     "output_type": "execute_result"
    },
    {
     "data": {
      "image/png": "[encoded data removed]",
      "text/plain": [
       "<Figure size 432x288 with 1 Axes>"
      ]
     },
     "metadata": {
      "needs_background": "light"
     },
     "output_type": "display_data"
    }
   ],
   "source": [
    "sns.barplot(x=\"numOfHighSchools\", y=\"latestPrice\", data=Cleandata)"
   ]
  },
  {
   "cell_type": "markdown",
   "id": "420ba85c",
   "metadata": {},
   "source": [
    "The above three plots show clear relation between  price and number of high schools, number of middle schools,number of elementary schools and number of primary schools."
   ]
  },
  {
   "cell_type": "code",
   "execution_count": 70,
   "id": "997734e8",
   "metadata": {},
   "outputs": [
    {
     "data": {
      "text/plain": [
       "<AxesSubplot:xlabel='avgSchoolDistance', ylabel='latestPrice'>"
      ]
     },
     "execution_count": 70,
     "metadata": {},
     "output_type": "execute_result"
    },
    {
     "data": {
      "image/png": "[encoded data removed]",
      "text/plain": [
       "<Figure size 432x288 with 1 Axes>"
      ]
     },
     "metadata": {
      "needs_background": "light"
     },
     "output_type": "display_data"
    }
   ],
   "source": [
    "sns.barplot(x=\"avgSchoolDistance\", y=\"latestPrice\", data=Cleandata)"
   ]
  },
  {
   "cell_type": "code",
   "execution_count": 71,
   "id": "d0b2440f",
   "metadata": {},
   "outputs": [
    {
     "data": {
      "text/plain": [
       "<AxesSubplot:xlabel='avgSchoolRating', ylabel='latestPrice'>"
      ]
     },
     "execution_count": 71,
     "metadata": {},
     "output_type": "execute_result"
    },
    {
     "data": {
      "image/png": "[encoded data removed]",
      "text/plain": [
       "<Figure size 432x288 with 1 Axes>"
      ]
     },
     "metadata": {
      "needs_background": "light"
     },
     "output_type": "display_data"
    }
   ],
   "source": [
    "sns.barplot(x=\"avgSchoolRating\", y=\"latestPrice\", data=Cleandata)"
   ]
  },
  {
   "cell_type": "markdown",
   "id": "47bb4d01",
   "metadata": {},
   "source": [
    "The above two plots show clear relation between  price and average school rating and average school distance."
   ]
  },
  {
   "cell_type": "code",
   "execution_count": 72,
   "id": "38fac57b",
   "metadata": {},
   "outputs": [
    {
     "data": {
      "text/html": [
       "<div>\n",
       "<style scoped>\n",
       "    .dataframe tbody tr th:only-of-type {\n",
       "        vertical-align: middle;\n",
       "    }\n",
       "\n",
       "    .dataframe tbody tr th {\n",
       "        vertical-align: top;\n",
       "    }\n",
       "\n",
       "    .dataframe thead th {\n",
       "        text-align: right;\n",
       "    }\n",
       "</style>\n",
       "<table border=\"1\" class=\"dataframe\">\n",
       "  <thead>\n",
       "    <tr style=\"text-align: right;\">\n",
       "      <th></th>\n",
       "      <th>avgSchoolSize</th>\n",
       "      <th>MedianStudentsPerTeacher</th>\n",
       "      <th>latestPrice</th>\n",
       "    </tr>\n",
       "  </thead>\n",
       "  <tbody>\n",
       "    <tr>\n",
       "      <th>avgSchoolSize</th>\n",
       "      <td>1.000000</td>\n",
       "      <td>0.632667</td>\n",
       "      <td>0.108073</td>\n",
       "    </tr>\n",
       "    <tr>\n",
       "      <th>MedianStudentsPerTeacher</th>\n",
       "      <td>0.632667</td>\n",
       "      <td>1.000000</td>\n",
       "      <td>0.332629</td>\n",
       "    </tr>\n",
       "    <tr>\n",
       "      <th>latestPrice</th>\n",
       "      <td>0.108073</td>\n",
       "      <td>0.332629</td>\n",
       "      <td>1.000000</td>\n",
       "    </tr>\n",
       "  </tbody>\n",
       "</table>\n",
       "</div>"
      ],
      "text/plain": [
       "                          avgSchoolSize  MedianStudentsPerTeacher  latestPrice\n",
       "avgSchoolSize                  1.000000                  0.632667     0.108073\n",
       "MedianStudentsPerTeacher       0.632667                  1.000000     0.332629\n",
       "latestPrice                    0.108073                  0.332629     1.000000"
      ]
     },
     "execution_count": 72,
     "metadata": {},
     "output_type": "execute_result"
    }
   ],
   "source": [
    "Cleandata[['avgSchoolSize','MedianStudentsPerTeacher','latestPrice']].corr()"
   ]
  },
  {
   "cell_type": "markdown",
   "id": "8c90054a",
   "metadata": {},
   "source": [
    "The above table shows no corrleation for medianstudentsperteacher and average school size with price.Hence these two can be excluded from the model"
   ]
  },
  {
   "cell_type": "code",
   "execution_count": 73,
   "id": "0aa538f2",
   "metadata": {},
   "outputs": [
    {
     "data": {
      "text/plain": [
       "<AxesSubplot:xlabel='hasAssociation', ylabel='latestPrice'>"
      ]
     },
     "execution_count": 73,
     "metadata": {},
     "output_type": "execute_result"
    },
    {
     "data": {
      "image/png": "[encoded data removed]",
      "text/plain": [
       "<Figure size 432x288 with 1 Axes>"
      ]
     },
     "metadata": {
      "needs_background": "light"
     },
     "output_type": "display_data"
    }
   ],
   "source": [
    " sns.barplot(x=\"hasAssociation\", y=\"latestPrice\", data=Cleandata)"
   ]
  },
  {
   "cell_type": "markdown",
   "id": "126cfa69",
   "metadata": {},
   "source": [
    "The above variable \"has Association\" seems to have no relation with price.Hence it can be dropped from our model"
   ]
  },
  {
   "cell_type": "code",
   "execution_count": 74,
   "id": "eb249755",
   "metadata": {},
   "outputs": [
    {
     "data": {
      "text/plain": [
       "<AxesSubplot:xlabel='hasCooling', ylabel='latestPrice'>"
      ]
     },
     "execution_count": 74,
     "metadata": {},
     "output_type": "execute_result"
    },
    {
     "data": {
      "image/png": "[encoded data removed]",
      "text/plain": [
       "<Figure size 432x288 with 1 Axes>"
      ]
     },
     "metadata": {
      "needs_background": "light"
     },
     "output_type": "display_data"
    }
   ],
   "source": [
    "sns.barplot(x=\"hasCooling\", y=\"latestPrice\", data=Cleandata)"
   ]
  },
  {
   "cell_type": "code",
   "execution_count": 75,
   "id": "973a7056",
   "metadata": {},
   "outputs": [
    {
     "data": {
      "text/plain": [
       "<AxesSubplot:xlabel='hasHeating', ylabel='latestPrice'>"
      ]
     },
     "execution_count": 75,
     "metadata": {},
     "output_type": "execute_result"
    },
    {
     "data": {
      "image/png": "[encoded data removed]",
      "text/plain": [
       "<Figure size 432x288 with 1 Axes>"
      ]
     },
     "metadata": {
      "needs_background": "light"
     },
     "output_type": "display_data"
    }
   ],
   "source": [
    "sns.barplot(x=\"hasHeating\", y=\"latestPrice\", data=Cleandata)"
   ]
  },
  {
   "cell_type": "code",
   "execution_count": 76,
   "id": "7792ea92",
   "metadata": {},
   "outputs": [
    {
     "data": {
      "text/plain": [
       "<AxesSubplot:xlabel='hasSpa', ylabel='latestPrice'>"
      ]
     },
     "execution_count": 76,
     "metadata": {},
     "output_type": "execute_result"
    },
    {
     "data": {
      "image/png": "[encoded data removed]",
      "text/plain": [
       "<Figure size 432x288 with 1 Axes>"
      ]
     },
     "metadata": {
      "needs_background": "light"
     },
     "output_type": "display_data"
    }
   ],
   "source": [
    "sns.barplot(x=\"hasSpa\", y=\"latestPrice\", data=Cleandata)"
   ]
  },
  {
   "cell_type": "code",
   "execution_count": 77,
   "id": "d28a678a",
   "metadata": {},
   "outputs": [
    {
     "data": {
      "text/plain": [
       "<AxesSubplot:xlabel='hasGarage', ylabel='latestPrice'>"
      ]
     },
     "execution_count": 77,
     "metadata": {},
     "output_type": "execute_result"
    },
    {
     "data": {
      "image/png": "[encoded data removed]",
      "text/plain": [
       "<Figure size 432x288 with 1 Axes>"
      ]
     },
     "metadata": {
      "needs_background": "light"
     },
     "output_type": "display_data"
    }
   ],
   "source": [
    "sns.barplot(x=\"hasGarage\", y=\"latestPrice\", data=Cleandata)"
   ]
  },
  {
   "cell_type": "code",
   "execution_count": 78,
   "id": "437839c7",
   "metadata": {},
   "outputs": [
    {
     "data": {
      "text/plain": [
       "<AxesSubplot:xlabel='hasView', ylabel='latestPrice'>"
      ]
     },
     "execution_count": 78,
     "metadata": {},
     "output_type": "execute_result"
    },
    {
     "data": {
      "image/png": "[encoded data removed]",
      "text/plain": [
       "<Figure size 432x288 with 1 Axes>"
      ]
     },
     "metadata": {
      "needs_background": "light"
     },
     "output_type": "display_data"
    }
   ],
   "source": [
    "sns.barplot(x=\"hasView\",y=\"latestPrice\", data=Cleandata)"
   ]
  },
  {
   "cell_type": "markdown",
   "id": "7515274d",
   "metadata": {},
   "source": [
    "The features like \"has heating\",\"has cooling,\"\"has spa\",\"has garage \"  and \"has view\" have clear relation with price."
   ]
  },
  {
   "cell_type": "markdown",
   "id": "3454cc03",
   "metadata": {},
   "source": [
    "# Section 8:Feature Engineering"
   ]
  },
  {
   "cell_type": "markdown",
   "id": "289d502e",
   "metadata": {},
   "source": [
    "8.1:Zipcodes "
   ]
  },
  {
   "cell_type": "code",
   "execution_count": 79,
   "id": "a0d698a4",
   "metadata": {},
   "outputs": [
    {
     "name": "stderr",
     "output_type": "stream",
     "text": [
      "<ipython-input-79-641c66b53853>:2: SettingWithCopyWarning: \n",
      "A value is trying to be set on a copy of a slice from a DataFrame.\n",
      "Try using .loc[row_indexer,col_indexer] = value instead\n",
      "\n",
      "See the caveats in the documentation: https://pandas.pydata.org/pandas-docs/stable/user_guide/indexing.html#returning-a-view-versus-a-copy\n",
      "  Cleandata[\"zipcode-1\"] = Cleandata[\"zipcode\"].str[0]\n",
      "<ipython-input-79-641c66b53853>:3: SettingWithCopyWarning: \n",
      "A value is trying to be set on a copy of a slice from a DataFrame.\n",
      "Try using .loc[row_indexer,col_indexer] = value instead\n",
      "\n",
      "See the caveats in the documentation: https://pandas.pydata.org/pandas-docs/stable/user_guide/indexing.html#returning-a-view-versus-a-copy\n",
      "  Cleandata[\"zipcode-2\"] = Cleandata[\"zipcode\"].str[1:2]\n",
      "<ipython-input-79-641c66b53853>:4: SettingWithCopyWarning: \n",
      "A value is trying to be set on a copy of a slice from a DataFrame.\n",
      "Try using .loc[row_indexer,col_indexer] = value instead\n",
      "\n",
      "See the caveats in the documentation: https://pandas.pydata.org/pandas-docs/stable/user_guide/indexing.html#returning-a-view-versus-a-copy\n",
      "  Cleandata[\"zipcode-3\"] = Cleandata[\"zipcode\"].str[2:3]\n",
      "<ipython-input-79-641c66b53853>:5: SettingWithCopyWarning: \n",
      "A value is trying to be set on a copy of a slice from a DataFrame.\n",
      "Try using .loc[row_indexer,col_indexer] = value instead\n",
      "\n",
      "See the caveats in the documentation: https://pandas.pydata.org/pandas-docs/stable/user_guide/indexing.html#returning-a-view-versus-a-copy\n",
      "  Cleandata[\"zipcode-4\"] = Cleandata[\"zipcode\"].str[3:4]\n",
      "<ipython-input-79-641c66b53853>:6: SettingWithCopyWarning: \n",
      "A value is trying to be set on a copy of a slice from a DataFrame.\n",
      "Try using .loc[row_indexer,col_indexer] = value instead\n",
      "\n",
      "See the caveats in the documentation: https://pandas.pydata.org/pandas-docs/stable/user_guide/indexing.html#returning-a-view-versus-a-copy\n",
      "  Cleandata[\"zipcode-5\"] = Cleandata[\"zipcode\"].str[4:5]\n"
     ]
    }
   ],
   "source": [
    "# Group zipcode into different columns to exploit maximum information from it in the model\n",
    "Cleandata[\"zipcode-1\"] = Cleandata[\"zipcode\"].str[0]\n",
    "Cleandata[\"zipcode-2\"] = Cleandata[\"zipcode\"].str[1:2]\n",
    "Cleandata[\"zipcode-3\"] = Cleandata[\"zipcode\"].str[2:3] \n",
    "Cleandata[\"zipcode-4\"] = Cleandata[\"zipcode\"].str[3:4] \n",
    "Cleandata[\"zipcode-5\"] = Cleandata[\"zipcode\"].str[4:5] "
   ]
  },
  {
   "cell_type": "markdown",
   "id": "66c48bfc",
   "metadata": {},
   "source": [
    "The first digit is named as zipcode 1, second digit is  named as zipcode 2, third  as zipcode 3, fourth as zipcode 4 and fifth digit as zipcode 5  columns repsectively"
   ]
  },
  {
   "cell_type": "code",
   "execution_count": 80,
   "id": "5074796d",
   "metadata": {},
   "outputs": [
    {
     "data": {
      "text/html": [
       "<div>\n",
       "<style scoped>\n",
       "    .dataframe tbody tr th:only-of-type {\n",
       "        vertical-align: middle;\n",
       "    }\n",
       "\n",
       "    .dataframe tbody tr th {\n",
       "        vertical-align: top;\n",
       "    }\n",
       "\n",
       "    .dataframe thead th {\n",
       "        text-align: right;\n",
       "    }\n",
       "</style>\n",
       "<table border=\"1\" class=\"dataframe\">\n",
       "  <thead>\n",
       "    <tr style=\"text-align: right;\">\n",
       "      <th></th>\n",
       "      <th>zpid</th>\n",
       "      <th>city</th>\n",
       "      <th>streetAddress</th>\n",
       "      <th>zipcode</th>\n",
       "      <th>description</th>\n",
       "      <th>latitude</th>\n",
       "      <th>longitude</th>\n",
       "      <th>propertyTaxRate</th>\n",
       "      <th>garageSpaces</th>\n",
       "      <th>hasAssociation</th>\n",
       "      <th>...</th>\n",
       "      <th>MedianStudentsPerTeacher</th>\n",
       "      <th>numOfBathrooms</th>\n",
       "      <th>numOfBedrooms</th>\n",
       "      <th>numOfStories</th>\n",
       "      <th>homeImage</th>\n",
       "      <th>zipcode-1</th>\n",
       "      <th>zipcode-2</th>\n",
       "      <th>zipcode-3</th>\n",
       "      <th>zipcode-4</th>\n",
       "      <th>zipcode-5</th>\n",
       "    </tr>\n",
       "  </thead>\n",
       "  <tbody>\n",
       "    <tr>\n",
       "      <th>0</th>\n",
       "      <td>111373431</td>\n",
       "      <td>pflugerville</td>\n",
       "      <td>14424 Lake Victor Dr</td>\n",
       "      <td>78660</td>\n",
       "      <td>14424 Lake Victor Dr, Pflugerville, TX 78660 i...</td>\n",
       "      <td>30.43</td>\n",
       "      <td>-97.66</td>\n",
       "      <td>1.98</td>\n",
       "      <td>2</td>\n",
       "      <td>1</td>\n",
       "      <td>...</td>\n",
       "      <td>14</td>\n",
       "      <td>3</td>\n",
       "      <td>4</td>\n",
       "      <td>2</td>\n",
       "      <td>111373431_ffce26843283d3365c11d81b8e6bdc6f-p_f...</td>\n",
       "      <td>7</td>\n",
       "      <td>8</td>\n",
       "      <td>6</td>\n",
       "      <td>6</td>\n",
       "      <td>0</td>\n",
       "    </tr>\n",
       "    <tr>\n",
       "      <th>1</th>\n",
       "      <td>120900430</td>\n",
       "      <td>pflugerville</td>\n",
       "      <td>1104 Strickling Dr</td>\n",
       "      <td>78660</td>\n",
       "      <td>Absolutely GORGEOUS 4 Bedroom home with 2 full...</td>\n",
       "      <td>30.43</td>\n",
       "      <td>-97.66</td>\n",
       "      <td>1.98</td>\n",
       "      <td>2</td>\n",
       "      <td>1</td>\n",
       "      <td>...</td>\n",
       "      <td>14</td>\n",
       "      <td>2</td>\n",
       "      <td>4</td>\n",
       "      <td>1</td>\n",
       "      <td>120900430_8255c127be8dcf0a1a18b7563d987088-p_f...</td>\n",
       "      <td>7</td>\n",
       "      <td>8</td>\n",
       "      <td>6</td>\n",
       "      <td>6</td>\n",
       "      <td>0</td>\n",
       "    </tr>\n",
       "    <tr>\n",
       "      <th>2</th>\n",
       "      <td>2084491383</td>\n",
       "      <td>pflugerville</td>\n",
       "      <td>1408 Fort Dessau Rd</td>\n",
       "      <td>78660</td>\n",
       "      <td>Under construction - estimated completion in A...</td>\n",
       "      <td>30.41</td>\n",
       "      <td>-97.64</td>\n",
       "      <td>1.98</td>\n",
       "      <td>0</td>\n",
       "      <td>1</td>\n",
       "      <td>...</td>\n",
       "      <td>14</td>\n",
       "      <td>2</td>\n",
       "      <td>3</td>\n",
       "      <td>1</td>\n",
       "      <td>2084491383_a2ad649e1a7a098111dcea084a11c855-p_...</td>\n",
       "      <td>7</td>\n",
       "      <td>8</td>\n",
       "      <td>6</td>\n",
       "      <td>6</td>\n",
       "      <td>0</td>\n",
       "    </tr>\n",
       "    <tr>\n",
       "      <th>3</th>\n",
       "      <td>120901374</td>\n",
       "      <td>pflugerville</td>\n",
       "      <td>1025 Strickling Dr</td>\n",
       "      <td>78660</td>\n",
       "      <td>Absolutely darling one story home in charming ...</td>\n",
       "      <td>30.43</td>\n",
       "      <td>-97.66</td>\n",
       "      <td>1.98</td>\n",
       "      <td>2</td>\n",
       "      <td>1</td>\n",
       "      <td>...</td>\n",
       "      <td>14</td>\n",
       "      <td>2</td>\n",
       "      <td>3</td>\n",
       "      <td>1</td>\n",
       "      <td>120901374_b469367a619da85b1f5ceb69b675d88e-p_f...</td>\n",
       "      <td>7</td>\n",
       "      <td>8</td>\n",
       "      <td>6</td>\n",
       "      <td>6</td>\n",
       "      <td>0</td>\n",
       "    </tr>\n",
       "    <tr>\n",
       "      <th>4</th>\n",
       "      <td>60134862</td>\n",
       "      <td>pflugerville</td>\n",
       "      <td>15005 Donna Jane Loop</td>\n",
       "      <td>78660</td>\n",
       "      <td>Brimming with appeal &amp; warm livability! Sleek ...</td>\n",
       "      <td>30.44</td>\n",
       "      <td>-97.66</td>\n",
       "      <td>1.98</td>\n",
       "      <td>0</td>\n",
       "      <td>1</td>\n",
       "      <td>...</td>\n",
       "      <td>14</td>\n",
       "      <td>3</td>\n",
       "      <td>3</td>\n",
       "      <td>2</td>\n",
       "      <td>60134862_b1a48a3df3f111e005bb913873e98ce2-p_f.jpg</td>\n",
       "      <td>7</td>\n",
       "      <td>8</td>\n",
       "      <td>6</td>\n",
       "      <td>6</td>\n",
       "      <td>0</td>\n",
       "    </tr>\n",
       "  </tbody>\n",
       "</table>\n",
       "<p>5 rows × 52 columns</p>\n",
       "</div>"
      ],
      "text/plain": [
       "         zpid          city          streetAddress zipcode  \\\n",
       "0   111373431  pflugerville   14424 Lake Victor Dr   78660   \n",
       "1   120900430  pflugerville     1104 Strickling Dr   78660   \n",
       "2  2084491383  pflugerville    1408 Fort Dessau Rd   78660   \n",
       "3   120901374  pflugerville     1025 Strickling Dr   78660   \n",
       "4    60134862  pflugerville  15005 Donna Jane Loop   78660   \n",
       "\n",
       "                                         description  latitude  longitude  \\\n",
       "0  14424 Lake Victor Dr, Pflugerville, TX 78660 i...     30.43     -97.66   \n",
       "1  Absolutely GORGEOUS 4 Bedroom home with 2 full...     30.43     -97.66   \n",
       "2  Under construction - estimated completion in A...     30.41     -97.64   \n",
       "3  Absolutely darling one story home in charming ...     30.43     -97.66   \n",
       "4  Brimming with appeal & warm livability! Sleek ...     30.44     -97.66   \n",
       "\n",
       "   propertyTaxRate  garageSpaces  hasAssociation  ...  \\\n",
       "0             1.98             2               1  ...   \n",
       "1             1.98             2               1  ...   \n",
       "2             1.98             0               1  ...   \n",
       "3             1.98             2               1  ...   \n",
       "4             1.98             0               1  ...   \n",
       "\n",
       "   MedianStudentsPerTeacher  numOfBathrooms  numOfBedrooms  numOfStories  \\\n",
       "0                        14               3              4             2   \n",
       "1                        14               2              4             1   \n",
       "2                        14               2              3             1   \n",
       "3                        14               2              3             1   \n",
       "4                        14               3              3             2   \n",
       "\n",
       "                                           homeImage zipcode-1  zipcode-2  \\\n",
       "0  111373431_ffce26843283d3365c11d81b8e6bdc6f-p_f...         7          8   \n",
       "1  120900430_8255c127be8dcf0a1a18b7563d987088-p_f...         7          8   \n",
       "2  2084491383_a2ad649e1a7a098111dcea084a11c855-p_...         7          8   \n",
       "3  120901374_b469367a619da85b1f5ceb69b675d88e-p_f...         7          8   \n",
       "4  60134862_b1a48a3df3f111e005bb913873e98ce2-p_f.jpg         7          8   \n",
       "\n",
       "   zipcode-3  zipcode-4  zipcode-5  \n",
       "0          6          6          0  \n",
       "1          6          6          0  \n",
       "2          6          6          0  \n",
       "3          6          6          0  \n",
       "4          6          6          0  \n",
       "\n",
       "[5 rows x 52 columns]"
      ]
     },
     "execution_count": 80,
     "metadata": {},
     "output_type": "execute_result"
    }
   ],
   "source": [
    "Cleandata.head()"
   ]
  },
  {
   "cell_type": "code",
   "execution_count": 81,
   "id": "63318efb",
   "metadata": {},
   "outputs": [
    {
     "data": {
      "text/plain": [
       "zpid                            int64\n",
       "city                           object\n",
       "streetAddress                  object\n",
       "zipcode                        object\n",
       "description                    object\n",
       "latitude                      float64\n",
       "longitude                     float64\n",
       "propertyTaxRate               float64\n",
       "garageSpaces                    int64\n",
       "hasAssociation                  int64\n",
       "hasCooling                      int64\n",
       "hasGarage                       int64\n",
       "hasHeating                      int64\n",
       "hasSpa                          int64\n",
       "hasView                         int64\n",
       "homeType                       object\n",
       "parkingSpaces                   int64\n",
       "yearBuilt                       int64\n",
       "latestPrice                     int64\n",
       "numPriceChanges                 int64\n",
       "latest_saledate                object\n",
       "latest_salemonth                int64\n",
       "latest_saleyear                 int64\n",
       "latestPriceSource              object\n",
       "numOfPhotos                     int64\n",
       "numOfAccessibilityFeatures      int64\n",
       "numOfAppliances                 int64\n",
       "numOfParkingFeatures            int64\n",
       "numOfPatioAndPorchFeatures      int64\n",
       "numOfSecurityFeatures           int64\n",
       "numOfWaterfrontFeatures         int64\n",
       "numOfWindowFeatures             int64\n",
       "numOfCommunityFeatures          int64\n",
       "lotSizeSqFt                   float64\n",
       "livingAreaSqFt                float64\n",
       "numOfPrimarySchools             int64\n",
       "numOfElementarySchools          int64\n",
       "numOfMiddleSchools              int64\n",
       "numOfHighSchools                int64\n",
       "avgSchoolDistance               int64\n",
       "avgSchoolRating                 int64\n",
       "avgSchoolSize                   int64\n",
       "MedianStudentsPerTeacher        int64\n",
       "numOfBathrooms                  int64\n",
       "numOfBedrooms                   int64\n",
       "numOfStories                    int64\n",
       "homeImage                      object\n",
       "zipcode-1                      object\n",
       "zipcode-2                      object\n",
       "zipcode-3                      object\n",
       "zipcode-4                      object\n",
       "zipcode-5                      object\n",
       "dtype: object"
      ]
     },
     "execution_count": 81,
     "metadata": {},
     "output_type": "execute_result"
    }
   ],
   "source": [
    "Cleandata.dtypes"
   ]
  },
  {
   "cell_type": "code",
   "execution_count": 82,
   "id": "2395022e",
   "metadata": {},
   "outputs": [
    {
     "name": "stderr",
     "output_type": "stream",
     "text": [
      "<ipython-input-82-658b6aa75547>:2: SettingWithCopyWarning: \n",
      "A value is trying to be set on a copy of a slice from a DataFrame.\n",
      "Try using .loc[row_indexer,col_indexer] = value instead\n",
      "\n",
      "See the caveats in the documentation: https://pandas.pydata.org/pandas-docs/stable/user_guide/indexing.html#returning-a-view-versus-a-copy\n",
      "  Cleandata[\"zipcode-1\"] = Cleandata[\"zipcode-1\"].astype(str).astype(int)\n",
      "<ipython-input-82-658b6aa75547>:3: SettingWithCopyWarning: \n",
      "A value is trying to be set on a copy of a slice from a DataFrame.\n",
      "Try using .loc[row_indexer,col_indexer] = value instead\n",
      "\n",
      "See the caveats in the documentation: https://pandas.pydata.org/pandas-docs/stable/user_guide/indexing.html#returning-a-view-versus-a-copy\n",
      "  Cleandata[\"zipcode-2\"] = Cleandata[\"zipcode-2\"].astype(str).astype(int)\n",
      "<ipython-input-82-658b6aa75547>:4: SettingWithCopyWarning: \n",
      "A value is trying to be set on a copy of a slice from a DataFrame.\n",
      "Try using .loc[row_indexer,col_indexer] = value instead\n",
      "\n",
      "See the caveats in the documentation: https://pandas.pydata.org/pandas-docs/stable/user_guide/indexing.html#returning-a-view-versus-a-copy\n",
      "  Cleandata[\"zipcode-3\"] = Cleandata[\"zipcode-3\"].astype(str).astype(int)\n",
      "<ipython-input-82-658b6aa75547>:5: SettingWithCopyWarning: \n",
      "A value is trying to be set on a copy of a slice from a DataFrame.\n",
      "Try using .loc[row_indexer,col_indexer] = value instead\n",
      "\n",
      "See the caveats in the documentation: https://pandas.pydata.org/pandas-docs/stable/user_guide/indexing.html#returning-a-view-versus-a-copy\n",
      "  Cleandata[\"zipcode-4\"] = Cleandata[\"zipcode-4\"].astype(str).astype(int)\n",
      "<ipython-input-82-658b6aa75547>:6: SettingWithCopyWarning: \n",
      "A value is trying to be set on a copy of a slice from a DataFrame.\n",
      "Try using .loc[row_indexer,col_indexer] = value instead\n",
      "\n",
      "See the caveats in the documentation: https://pandas.pydata.org/pandas-docs/stable/user_guide/indexing.html#returning-a-view-versus-a-copy\n",
      "  Cleandata[\"zipcode-5\"] = Cleandata[\"zipcode-5\"].astype(str).astype(int)\n"
     ]
    }
   ],
   "source": [
    "#Convert the zipcode columns from string to numerical values for usability in the model\n",
    "Cleandata[\"zipcode-1\"] = Cleandata[\"zipcode-1\"].astype(str).astype(int)\n",
    "Cleandata[\"zipcode-2\"] = Cleandata[\"zipcode-2\"].astype(str).astype(int)\n",
    "Cleandata[\"zipcode-3\"] = Cleandata[\"zipcode-3\"].astype(str).astype(int)\n",
    "Cleandata[\"zipcode-4\"] = Cleandata[\"zipcode-4\"].astype(str).astype(int)\n",
    "Cleandata[\"zipcode-5\"] = Cleandata[\"zipcode-5\"].astype(str).astype(int)"
   ]
  },
  {
   "cell_type": "code",
   "execution_count": 83,
   "id": "9baa72b2",
   "metadata": {},
   "outputs": [
    {
     "data": {
      "text/plain": [
       "zpid                            int64\n",
       "city                           object\n",
       "streetAddress                  object\n",
       "zipcode                        object\n",
       "description                    object\n",
       "latitude                      float64\n",
       "longitude                     float64\n",
       "propertyTaxRate               float64\n",
       "garageSpaces                    int64\n",
       "hasAssociation                  int64\n",
       "hasCooling                      int64\n",
       "hasGarage                       int64\n",
       "hasHeating                      int64\n",
       "hasSpa                          int64\n",
       "hasView                         int64\n",
       "homeType                       object\n",
       "parkingSpaces                   int64\n",
       "yearBuilt                       int64\n",
       "latestPrice                     int64\n",
       "numPriceChanges                 int64\n",
       "latest_saledate                object\n",
       "latest_salemonth                int64\n",
       "latest_saleyear                 int64\n",
       "latestPriceSource              object\n",
       "numOfPhotos                     int64\n",
       "numOfAccessibilityFeatures      int64\n",
       "numOfAppliances                 int64\n",
       "numOfParkingFeatures            int64\n",
       "numOfPatioAndPorchFeatures      int64\n",
       "numOfSecurityFeatures           int64\n",
       "numOfWaterfrontFeatures         int64\n",
       "numOfWindowFeatures             int64\n",
       "numOfCommunityFeatures          int64\n",
       "lotSizeSqFt                   float64\n",
       "livingAreaSqFt                float64\n",
       "numOfPrimarySchools             int64\n",
       "numOfElementarySchools          int64\n",
       "numOfMiddleSchools              int64\n",
       "numOfHighSchools                int64\n",
       "avgSchoolDistance               int64\n",
       "avgSchoolRating                 int64\n",
       "avgSchoolSize                   int64\n",
       "MedianStudentsPerTeacher        int64\n",
       "numOfBathrooms                  int64\n",
       "numOfBedrooms                   int64\n",
       "numOfStories                    int64\n",
       "homeImage                      object\n",
       "zipcode-1                       int32\n",
       "zipcode-2                       int32\n",
       "zipcode-3                       int32\n",
       "zipcode-4                       int32\n",
       "zipcode-5                       int32\n",
       "dtype: object"
      ]
     },
     "execution_count": 83,
     "metadata": {},
     "output_type": "execute_result"
    }
   ],
   "source": [
    "Cleandata.dtypes"
   ]
  },
  {
   "cell_type": "code",
   "execution_count": 84,
   "id": "8ff4b537",
   "metadata": {},
   "outputs": [
    {
     "data": {
      "text/plain": [
       "<AxesSubplot:xlabel='zipcode-1', ylabel='latestPrice'>"
      ]
     },
     "execution_count": 84,
     "metadata": {},
     "output_type": "execute_result"
    },
    {
     "data": {
      "image/png": "[encoded data removed]",
      "text/plain": [
       "<Figure size 432x288 with 1 Axes>"
      ]
     },
     "metadata": {
      "needs_background": "light"
     },
     "output_type": "display_data"
    }
   ],
   "source": [
    "sns.barplot(x=\"zipcode-1\",y=\"latestPrice\", data=Cleandata)"
   ]
  },
  {
   "cell_type": "code",
   "execution_count": 85,
   "id": "db1d8b9c",
   "metadata": {},
   "outputs": [
    {
     "data": {
      "text/plain": [
       "<AxesSubplot:xlabel='zipcode-2', ylabel='latestPrice'>"
      ]
     },
     "execution_count": 85,
     "metadata": {},
     "output_type": "execute_result"
    },
    {
     "data": {
      "image/png": "[encoded data removed]",
      "text/plain": [
       "<Figure size 432x288 with 1 Axes>"
      ]
     },
     "metadata": {
      "needs_background": "light"
     },
     "output_type": "display_data"
    }
   ],
   "source": [
    "sns.barplot(x=\"zipcode-2\",y=\"latestPrice\", data=Cleandata)"
   ]
  },
  {
   "cell_type": "code",
   "execution_count": 86,
   "id": "241090a7",
   "metadata": {},
   "outputs": [
    {
     "data": {
      "text/plain": [
       "<AxesSubplot:xlabel='zipcode-3', ylabel='latestPrice'>"
      ]
     },
     "execution_count": 86,
     "metadata": {},
     "output_type": "execute_result"
    },
    {
     "data": {
      "image/png": "[encoded data removed]",
      "text/plain": [
       "<Figure size 432x288 with 1 Axes>"
      ]
     },
     "metadata": {
      "needs_background": "light"
     },
     "output_type": "display_data"
    }
   ],
   "source": [
    "sns.barplot(x=\"zipcode-3\",y=\"latestPrice\", data=Cleandata)"
   ]
  },
  {
   "cell_type": "code",
   "execution_count": 87,
   "id": "d256e59d",
   "metadata": {},
   "outputs": [
    {
     "data": {
      "text/plain": [
       "<AxesSubplot:xlabel='zipcode-4', ylabel='latestPrice'>"
      ]
     },
     "execution_count": 87,
     "metadata": {},
     "output_type": "execute_result"
    },
    {
     "data": {
      "image/png": "[encoded data removed]",
      "text/plain": [
       "<Figure size 432x288 with 1 Axes>"
      ]
     },
     "metadata": {
      "needs_background": "light"
     },
     "output_type": "display_data"
    }
   ],
   "source": [
    "sns.barplot(x=\"zipcode-4\",y=\"latestPrice\", data=Cleandata)"
   ]
  },
  {
   "cell_type": "code",
   "execution_count": 88,
   "id": "5e2fd991",
   "metadata": {},
   "outputs": [
    {
     "data": {
      "text/plain": [
       "<AxesSubplot:xlabel='zipcode-5', ylabel='latestPrice'>"
      ]
     },
     "execution_count": 88,
     "metadata": {},
     "output_type": "execute_result"
    },
    {
     "data": {
      "image/png": "[encoded data removed]",
      "text/plain": [
       "<Figure size 432x288 with 1 Axes>"
      ]
     },
     "metadata": {
      "needs_background": "light"
     },
     "output_type": "display_data"
    }
   ],
   "source": [
    "sns.barplot(x=\"zipcode-5\",y=\"latestPrice\", data=Cleandata)"
   ]
  },
  {
   "cell_type": "markdown",
   "id": "8d33d10d",
   "metadata": {},
   "source": [
    "The above plots shows that \"zipcode-3\", \"zipcode-4\" and \"zipcode-5\" have clear relation with price while \"zipcode-1\" and \"zipcode-2\" does not have relation with price.This means the third, fourth and fifth digits of zipcodes have maximum relation with price.Hence the variables \"zipcode-3\", \"zipcode-4\" and \"zipcode-5\" will be included in the final model and \"zipcode-1\" and \"zipcode-2\" will be excluded from the final model."
   ]
  },
  {
   "cell_type": "markdown",
   "id": "75033663",
   "metadata": {},
   "source": [
    "8.2: Year built"
   ]
  },
  {
   "cell_type": "code",
   "execution_count": 89,
   "id": "247a3686",
   "metadata": {},
   "outputs": [
    {
     "name": "stderr",
     "output_type": "stream",
     "text": [
      "<ipython-input-89-db43c1e4b69c>:3: SettingWithCopyWarning: \n",
      "A value is trying to be set on a copy of a slice from a DataFrame.\n",
      "Try using .loc[row_indexer,col_indexer] = value instead\n",
      "\n",
      "See the caveats in the documentation: https://pandas.pydata.org/pandas-docs/stable/user_guide/indexing.html#returning-a-view-versus-a-copy\n",
      "  Cleandata['newconstruction'] = 0\n",
      "C:\\Users\\leksh\\anaconda3\\lib\\site-packages\\pandas\\core\\indexing.py:1720: SettingWithCopyWarning: \n",
      "A value is trying to be set on a copy of a slice from a DataFrame.\n",
      "Try using .loc[row_indexer,col_indexer] = value instead\n",
      "\n",
      "See the caveats in the documentation: https://pandas.pydata.org/pandas-docs/stable/user_guide/indexing.html#returning-a-view-versus-a-copy\n",
      "  self._setitem_single_column(loc, value, pi)\n"
     ]
    },
    {
     "data": {
      "text/plain": [
       "15165    0\n",
       "15166    0\n",
       "15167    1\n",
       "15168    0\n",
       "15170    0\n",
       "Name: newconstruction, dtype: int64"
      ]
     },
     "execution_count": 89,
     "metadata": {},
     "output_type": "execute_result"
    }
   ],
   "source": [
    "# The year built column will be  regrouped into 0 and 1 for all those with year built greater than 2010 as 1 and  year built less than or equal to 2010 as 0.\n",
    "#Create the column  new construction  filled with zeros\n",
    "Cleandata['newconstruction'] = 0\n",
    "\n",
    "# Replace all the newconstruction values where Year built is >2010 as 1\n",
    "Cleandata.loc[Cleandata['yearBuilt'] >2010, 'newconstruction'] = 1\n",
    "Cleandata['newconstruction'].tail()\n",
    "\n"
   ]
  },
  {
   "cell_type": "code",
   "execution_count": 90,
   "id": "24ca1f6f",
   "metadata": {},
   "outputs": [
    {
     "data": {
      "text/plain": [
       "<AxesSubplot:xlabel='newconstruction', ylabel='latestPrice'>"
      ]
     },
     "execution_count": 90,
     "metadata": {},
     "output_type": "execute_result"
    },
    {
     "data": {
      "image/png": "[encoded data removed]",
      "text/plain": [
       "<Figure size 432x288 with 1 Axes>"
      ]
     },
     "metadata": {
      "needs_background": "light"
     },
     "output_type": "display_data"
    }
   ],
   "source": [
    "sns.barplot(x=\"newconstruction\",y=\"latestPrice\", data=Cleandata)"
   ]
  },
  {
   "cell_type": "markdown",
   "id": "8ca0e276",
   "metadata": {},
   "source": [
    "After feature engineering the new variable\"newconstruction\" shows clear relation with price.Hence  the variable \"newconstruction\"will be included in the final model instead of the variable \"yearBuilt\"."
   ]
  },
  {
   "cell_type": "markdown",
   "id": "36abdbf7",
   "metadata": {},
   "source": [
    "8.3:Number of photos"
   ]
  },
  {
   "cell_type": "code",
   "execution_count": 91,
   "id": "32d81dea",
   "metadata": {},
   "outputs": [
    {
     "name": "stdout",
     "output_type": "stream",
     "text": [
      "1\n",
      "175\n"
     ]
    },
    {
     "data": {
      "text/plain": [
       "array([  1. ,  44.5,  88. , 131.5, 175. ])"
      ]
     },
     "execution_count": 91,
     "metadata": {},
     "output_type": "execute_result"
    }
   ],
   "source": [
    "#Regroup number of photos into different categories\n",
    "min_value = Cleandata['numOfPhotos'].min()\n",
    "max_value = Cleandata['numOfPhotos'].max()\n",
    "print(min_value)\n",
    "print(max_value)\n",
    "bins = np.linspace(min_value,max_value,5)\n",
    "bins"
   ]
  },
  {
   "cell_type": "code",
   "execution_count": 92,
   "id": "0c0050b8",
   "metadata": {},
   "outputs": [],
   "source": [
    "#Give the name of labels\n",
    "labels = ['1', '2', '3','4']"
   ]
  },
  {
   "cell_type": "code",
   "execution_count": 93,
   "id": "db0de937",
   "metadata": {},
   "outputs": [
    {
     "name": "stderr",
     "output_type": "stream",
     "text": [
      "<ipython-input-93-159ffd1acbff>:2: SettingWithCopyWarning: \n",
      "A value is trying to be set on a copy of a slice from a DataFrame.\n",
      "Try using .loc[row_indexer,col_indexer] = value instead\n",
      "\n",
      "See the caveats in the documentation: https://pandas.pydata.org/pandas-docs/stable/user_guide/indexing.html#returning-a-view-versus-a-copy\n",
      "  Cleandata['numofPhotos_range'] = pd.cut(Cleandata['numOfPhotos'], bins=bins, labels=labels, include_lowest=True)\n"
     ]
    },
    {
     "data": {
      "text/plain": [
       "0        1\n",
       "1        1\n",
       "2        1\n",
       "3        1\n",
       "4        1\n",
       "        ..\n",
       "15165    2\n",
       "15166    2\n",
       "15167    1\n",
       "15168    1\n",
       "15170    1\n",
       "Name: numofPhotos_range, Length: 13703, dtype: category\n",
       "Categories (4, object): ['1' < '2' < '3' < '4']"
      ]
     },
     "execution_count": 93,
     "metadata": {},
     "output_type": "execute_result"
    }
   ],
   "source": [
    "#Bin number of photos into 4 groups\n",
    "Cleandata['numofPhotos_range'] = pd.cut(Cleandata['numOfPhotos'], bins=bins, labels=labels, include_lowest=True)\n",
    "Cleandata['numofPhotos_range']"
   ]
  },
  {
   "cell_type": "code",
   "execution_count": 94,
   "id": "cb6dc7d4",
   "metadata": {},
   "outputs": [
    {
     "name": "stderr",
     "output_type": "stream",
     "text": [
      "<ipython-input-94-7b63c23d9ec7>:2: SettingWithCopyWarning: \n",
      "A value is trying to be set on a copy of a slice from a DataFrame.\n",
      "Try using .loc[row_indexer,col_indexer] = value instead\n",
      "\n",
      "See the caveats in the documentation: https://pandas.pydata.org/pandas-docs/stable/user_guide/indexing.html#returning-a-view-versus-a-copy\n",
      "  Cleandata[\"numofPhotos_range\"] = Cleandata[\"numofPhotos_range\"].astype(str).astype(int)\n"
     ]
    },
    {
     "data": {
      "text/plain": [
       "zpid                            int64\n",
       "city                           object\n",
       "streetAddress                  object\n",
       "zipcode                        object\n",
       "description                    object\n",
       "latitude                      float64\n",
       "longitude                     float64\n",
       "propertyTaxRate               float64\n",
       "garageSpaces                    int64\n",
       "hasAssociation                  int64\n",
       "hasCooling                      int64\n",
       "hasGarage                       int64\n",
       "hasHeating                      int64\n",
       "hasSpa                          int64\n",
       "hasView                         int64\n",
       "homeType                       object\n",
       "parkingSpaces                   int64\n",
       "yearBuilt                       int64\n",
       "latestPrice                     int64\n",
       "numPriceChanges                 int64\n",
       "latest_saledate                object\n",
       "latest_salemonth                int64\n",
       "latest_saleyear                 int64\n",
       "latestPriceSource              object\n",
       "numOfPhotos                     int64\n",
       "numOfAccessibilityFeatures      int64\n",
       "numOfAppliances                 int64\n",
       "numOfParkingFeatures            int64\n",
       "numOfPatioAndPorchFeatures      int64\n",
       "numOfSecurityFeatures           int64\n",
       "numOfWaterfrontFeatures         int64\n",
       "numOfWindowFeatures             int64\n",
       "numOfCommunityFeatures          int64\n",
       "lotSizeSqFt                   float64\n",
       "livingAreaSqFt                float64\n",
       "numOfPrimarySchools             int64\n",
       "numOfElementarySchools          int64\n",
       "numOfMiddleSchools              int64\n",
       "numOfHighSchools                int64\n",
       "avgSchoolDistance               int64\n",
       "avgSchoolRating                 int64\n",
       "avgSchoolSize                   int64\n",
       "MedianStudentsPerTeacher        int64\n",
       "numOfBathrooms                  int64\n",
       "numOfBedrooms                   int64\n",
       "numOfStories                    int64\n",
       "homeImage                      object\n",
       "zipcode-1                       int32\n",
       "zipcode-2                       int32\n",
       "zipcode-3                       int32\n",
       "zipcode-4                       int32\n",
       "zipcode-5                       int32\n",
       "newconstruction                 int64\n",
       "numofPhotos_range               int32\n",
       "dtype: object"
      ]
     },
     "execution_count": 94,
     "metadata": {},
     "output_type": "execute_result"
    }
   ],
   "source": [
    "#Convert the grouped variable to numeric\n",
    "Cleandata[\"numofPhotos_range\"] = Cleandata[\"numofPhotos_range\"].astype(str).astype(int)\n",
    "Cleandata.dtypes"
   ]
  },
  {
   "cell_type": "code",
   "execution_count": 95,
   "id": "28f22cf3",
   "metadata": {},
   "outputs": [
    {
     "data": {
      "text/plain": [
       "<AxesSubplot:xlabel='numofPhotos_range', ylabel='latestPrice'>"
      ]
     },
     "execution_count": 95,
     "metadata": {},
     "output_type": "execute_result"
    },
    {
     "data": {
      "image/png": "[encoded data removed]",
      "text/plain": [
       "<Figure size 432x288 with 1 Axes>"
      ]
     },
     "metadata": {
      "needs_background": "light"
     },
     "output_type": "display_data"
    }
   ],
   "source": [
    "#Check the relationship between  the new grouped number of photos and price \n",
    "sns.barplot(x=\"numofPhotos_range\",y=\"latestPrice\", data=Cleandata)\n"
   ]
  },
  {
   "cell_type": "markdown",
   "id": "ce642959",
   "metadata": {},
   "source": [
    "The above plot shows clear relationship between the grouped variable number of photos and the price."
   ]
  },
  {
   "cell_type": "code",
   "execution_count": 96,
   "id": "b88ddb3e",
   "metadata": {},
   "outputs": [
    {
     "name": "stderr",
     "output_type": "stream",
     "text": [
      "<ipython-input-96-48f686a61c1b>:2: SettingWithCopyWarning: \n",
      "A value is trying to be set on a copy of a slice from a DataFrame.\n",
      "Try using .loc[row_indexer,col_indexer] = value instead\n",
      "\n",
      "See the caveats in the documentation: https://pandas.pydata.org/pandas-docs/stable/user_guide/indexing.html#returning-a-view-versus-a-copy\n",
      "  Cleandata['latest_saleyear'] = pd.to_datetime(Cleandata['latest_saleyear'], format='%Y')\n"
     ]
    },
    {
     "data": {
      "text/plain": [
       "zpid                                   int64\n",
       "city                                  object\n",
       "streetAddress                         object\n",
       "zipcode                               object\n",
       "description                           object\n",
       "latitude                             float64\n",
       "longitude                            float64\n",
       "propertyTaxRate                      float64\n",
       "garageSpaces                           int64\n",
       "hasAssociation                         int64\n",
       "hasCooling                             int64\n",
       "hasGarage                              int64\n",
       "hasHeating                             int64\n",
       "hasSpa                                 int64\n",
       "hasView                                int64\n",
       "homeType                              object\n",
       "parkingSpaces                          int64\n",
       "yearBuilt                              int64\n",
       "latestPrice                            int64\n",
       "numPriceChanges                        int64\n",
       "latest_saledate                       object\n",
       "latest_salemonth                       int64\n",
       "latest_saleyear               datetime64[ns]\n",
       "latestPriceSource                     object\n",
       "numOfPhotos                            int64\n",
       "numOfAccessibilityFeatures             int64\n",
       "numOfAppliances                        int64\n",
       "numOfParkingFeatures                   int64\n",
       "numOfPatioAndPorchFeatures             int64\n",
       "numOfSecurityFeatures                  int64\n",
       "numOfWaterfrontFeatures                int64\n",
       "numOfWindowFeatures                    int64\n",
       "numOfCommunityFeatures                 int64\n",
       "lotSizeSqFt                          float64\n",
       "livingAreaSqFt                       float64\n",
       "numOfPrimarySchools                    int64\n",
       "numOfElementarySchools                 int64\n",
       "numOfMiddleSchools                     int64\n",
       "numOfHighSchools                       int64\n",
       "avgSchoolDistance                      int64\n",
       "avgSchoolRating                        int64\n",
       "avgSchoolSize                          int64\n",
       "MedianStudentsPerTeacher               int64\n",
       "numOfBathrooms                         int64\n",
       "numOfBedrooms                          int64\n",
       "numOfStories                           int64\n",
       "homeImage                             object\n",
       "zipcode-1                              int32\n",
       "zipcode-2                              int32\n",
       "zipcode-3                              int32\n",
       "zipcode-4                              int32\n",
       "zipcode-5                              int32\n",
       "newconstruction                        int64\n",
       "numofPhotos_range                      int32\n",
       "dtype: object"
      ]
     },
     "execution_count": 96,
     "metadata": {},
     "output_type": "execute_result"
    }
   ],
   "source": [
    "#Declaring latestsale year as the time variable\n",
    "Cleandata['latest_saleyear'] = pd.to_datetime(Cleandata['latest_saleyear'], format='%Y')\n",
    "Cleandata.dtypes"
   ]
  },
  {
   "cell_type": "markdown",
   "id": "d54161f7",
   "metadata": {},
   "source": [
    "# 8.3:Standardization of Numerical Features and SPLI into train and test data sets"
   ]
  },
  {
   "cell_type": "code",
   "execution_count": 97,
   "id": "3a4d3b9b",
   "metadata": {},
   "outputs": [],
   "source": [
    "#Making a scalar object\n",
    "from sklearn.preprocessing import StandardScaler\n"
   ]
  },
  {
   "cell_type": "code",
   "execution_count": 98,
   "id": "4b453192",
   "metadata": {},
   "outputs": [
    {
     "name": "stderr",
     "output_type": "stream",
     "text": [
      "<ipython-input-98-cc7176e45031>:2: SettingWithCopyWarning: \n",
      "A value is trying to be set on a copy of a slice from a DataFrame.\n",
      "Try using .loc[row_indexer,col_indexer] = value instead\n",
      "\n",
      "See the caveats in the documentation: https://pandas.pydata.org/pandas-docs/stable/user_guide/indexing.html#returning-a-view-versus-a-copy\n",
      "  Cleandata[['livingAreaSqFt','lotSizeSqFt','garageSpaces','parkingSpaces','numOfPhotos','propertyTaxRate','avgSchoolDistance']] = StandardScaler().fit_transform(Cleandata[['livingAreaSqFt', 'lotSizeSqFt','garageSpaces','parkingSpaces','numOfPhotos','propertyTaxRate','avgSchoolDistance',]])\n",
      "C:\\Users\\leksh\\anaconda3\\lib\\site-packages\\pandas\\core\\indexing.py:1738: SettingWithCopyWarning: \n",
      "A value is trying to be set on a copy of a slice from a DataFrame.\n",
      "Try using .loc[row_indexer,col_indexer] = value instead\n",
      "\n",
      "See the caveats in the documentation: https://pandas.pydata.org/pandas-docs/stable/user_guide/indexing.html#returning-a-view-versus-a-copy\n",
      "  self._setitem_single_column(loc, value[:, i].tolist(), pi)\n"
     ]
    }
   ],
   "source": [
    "#Fitting data to the object\n",
    "Cleandata[['livingAreaSqFt','lotSizeSqFt','garageSpaces','parkingSpaces','numOfPhotos','propertyTaxRate','avgSchoolDistance']] = StandardScaler().fit_transform(Cleandata[['livingAreaSqFt', 'lotSizeSqFt','garageSpaces','parkingSpaces','numOfPhotos','propertyTaxRate','avgSchoolDistance',]])"
   ]
  },
  {
   "cell_type": "markdown",
   "id": "8669d792",
   "metadata": {},
   "source": [
    "# Section 9:Modeling"
   ]
  },
  {
   "cell_type": "code",
   "execution_count": 99,
   "id": "b4ab2ac3",
   "metadata": {},
   "outputs": [
    {
     "data": {
      "text/plain": [
       "(13703, 54)"
      ]
     },
     "execution_count": 99,
     "metadata": {},
     "output_type": "execute_result"
    }
   ],
   "source": [
    "Cleandata.shape"
   ]
  },
  {
   "cell_type": "code",
   "execution_count": 100,
   "id": "f578ff05",
   "metadata": {},
   "outputs": [],
   "source": [
    "#Defining dependent variable\n",
    "Y=Cleandata['latestPrice']"
   ]
  },
  {
   "cell_type": "code",
   "execution_count": 101,
   "id": "504dffb7",
   "metadata": {},
   "outputs": [],
   "source": [
    "#Defining independent variables\n",
    "X=Cleandata[['zipcode-3','zipcode-4','zipcode-5','numOfPhotos','livingAreaSqFt','lotSizeSqFt','newconstruction','hasCooling','hasSpa','numOfPrimarySchools','hasHeating','numOfElementarySchools','numOfMiddleSchools', 'numOfHighSchools', 'numOfAppliances','numOfParkingFeatures', 'numOfPatioAndPorchFeatures','numOfSecurityFeatures','numOfWaterfrontFeatures','numOfWindowFeatures' ,'numOfBathrooms','numOfBedrooms','avgSchoolDistance','avgSchoolRating','garageSpaces','parkingSpaces','numOfAccessibilityFeatures','propertyTaxRate','hasView','numOfStories']]"
   ]
  },
  {
   "cell_type": "code",
   "execution_count": 102,
   "id": "bb1a06d7",
   "metadata": {},
   "outputs": [],
   "source": [
    "#Split into testing and training datasets\n",
    "from sklearn.model_selection import train_test_split\n",
    "X_train, X_test, Y_train, Y_test = train_test_split(X, Y, test_size=0.2, random_state=25)\n"
   ]
  },
  {
   "cell_type": "markdown",
   "id": "db0f388d",
   "metadata": {},
   "source": [
    "Linear Regression"
   ]
  },
  {
   "cell_type": "code",
   "execution_count": 103,
   "id": "1168a248",
   "metadata": {},
   "outputs": [
    {
     "data": {
      "text/plain": [
       "LinearRegression()"
      ]
     },
     "execution_count": 103,
     "metadata": {},
     "output_type": "execute_result"
    }
   ],
   "source": [
    "#Fitting linear regression\n",
    "from sklearn.linear_model import LinearRegression\n",
    "reg = LinearRegression()\n",
    "reg.fit(X_train, Y_train)\n"
   ]
  },
  {
   "cell_type": "code",
   "execution_count": 104,
   "id": "071c930e",
   "metadata": {},
   "outputs": [
    {
     "name": "stdout",
     "output_type": "stream",
     "text": [
      "                                 OLS Regression Results                                \n",
      "=======================================================================================\n",
      "Dep. Variable:            latestPrice   R-squared (uncentered):                   0.905\n",
      "Model:                            OLS   Adj. R-squared (uncentered):              0.904\n",
      "Method:                 Least Squares   F-statistic:                              3460.\n",
      "Date:                Fri, 07 Jan 2022   Prob (F-statistic):                        0.00\n",
      "Time:                        14:34:19   Log-Likelihood:                     -1.4658e+05\n",
      "No. Observations:               10962   AIC:                                  2.932e+05\n",
      "Df Residuals:                   10932   BIC:                                  2.934e+05\n",
      "Df Model:                          30                                                  \n",
      "Covariance Type:            nonrobust                                                  \n",
      "==============================================================================================\n",
      "                                 coef    std err          t      P>|t|      [0.025      0.975]\n",
      "----------------------------------------------------------------------------------------------\n",
      "zipcode-3                   3.172e+04   3585.652      8.845      0.000    2.47e+04    3.87e+04\n",
      "zipcode-4                  -2.749e+04   1141.350    -24.088      0.000   -2.97e+04   -2.53e+04\n",
      "zipcode-5                  -1.706e+04    599.667    -28.454      0.000   -1.82e+04   -1.59e+04\n",
      "numOfPhotos                  1.28e+04   1614.662      7.929      0.000    9638.199     1.6e+04\n",
      "livingAreaSqFt              1.885e+04   1697.223     11.107      0.000    1.55e+04    2.22e+04\n",
      "lotSizeSqFt                 3.316e+04   1645.414     20.151      0.000    2.99e+04    3.64e+04\n",
      "newconstruction              2.59e+04   4467.488      5.798      0.000    1.71e+04    3.47e+04\n",
      "hasCooling                 -6622.7550   1.63e+04     -0.406      0.685   -3.86e+04    2.54e+04\n",
      "hasSpa                      3.901e+04   6004.375      6.498      0.000    2.72e+04    5.08e+04\n",
      "numOfPrimarySchools         1.211e+05   1.33e+04      9.085      0.000     9.5e+04    1.47e+05\n",
      "hasHeating                  8883.0967    2.2e+04      0.403      0.687   -3.43e+04    5.21e+04\n",
      "numOfElementarySchools      8.135e+04   1.14e+04      7.125      0.000     5.9e+04    1.04e+05\n",
      "numOfMiddleSchools         -3.355e+04   7310.561     -4.589      0.000   -4.79e+04   -1.92e+04\n",
      "numOfHighSchools           -1.043e+05   6553.854    -15.909      0.000   -1.17e+05   -9.14e+04\n",
      "numOfAppliances              968.5497    844.172      1.147      0.251    -686.180    2623.279\n",
      "numOfParkingFeatures        1.756e+04   2787.675      6.300      0.000    1.21e+04     2.3e+04\n",
      "numOfPatioAndPorchFeatures  1.263e+04   1910.281      6.611      0.000    8883.928    1.64e+04\n",
      "numOfSecurityFeatures         86.6313   2223.253      0.039      0.969   -4271.347    4444.609\n",
      "numOfWaterfrontFeatures     7.538e+04   4.33e+04      1.742      0.082   -9439.739     1.6e+05\n",
      "numOfWindowFeatures         7599.5803   3430.917      2.215      0.027     874.363    1.43e+04\n",
      "numOfBathrooms              7.411e+04   2794.488     26.522      0.000    6.86e+04    7.96e+04\n",
      "numOfBedrooms               4248.5067   2641.318      1.608      0.108    -928.956    9425.969\n",
      "avgSchoolDistance          -3.112e+04   1632.453    -19.062      0.000   -3.43e+04   -2.79e+04\n",
      "avgSchoolRating             3.716e+04    924.116     40.212      0.000    3.53e+04     3.9e+04\n",
      "garageSpaces                4.833e+04   5.66e+04      0.854      0.393   -6.26e+04    1.59e+05\n",
      "parkingSpaces              -5.337e+04   5.66e+04     -0.943      0.346   -1.64e+05    5.76e+04\n",
      "numOfAccessibilityFeatures  1.686e+04   8602.704      1.959      0.050      -7.670    3.37e+04\n",
      "propertyTaxRate            -4.352e+04   1747.273    -24.907      0.000   -4.69e+04   -4.01e+04\n",
      "hasView                     2149.9256   3816.947      0.563      0.573   -5331.982    9631.833\n",
      "numOfStories               -3.049e+04   3818.710     -7.985      0.000    -3.8e+04    -2.3e+04\n",
      "==============================================================================\n",
      "Omnibus:                     2121.611   Durbin-Watson:                   2.021\n",
      "Prob(Omnibus):                  0.000   Jarque-Bera (JB):            12119.671\n",
      "Skew:                           0.810   Prob(JB):                         0.00\n",
      "Kurtosis:                       7.890   Cond. No.                         695.\n",
      "==============================================================================\n",
      "\n",
      "Notes:\n",
      "[1] R² is computed without centering (uncentered) since the model does not contain a constant.\n",
      "[2] Standard Errors assume that the covariance matrix of the errors is correctly specified.\n"
     ]
    }
   ],
   "source": [
    "import statsmodels.api as sm\n",
    "model = sm.OLS(Y_train, X_train.astype(float))\n",
    "results = model.fit()\n",
    "print(results.summary())"
   ]
  },
  {
   "cell_type": "code",
   "execution_count": 105,
   "id": "36c1bcb0",
   "metadata": {},
   "outputs": [
    {
     "data": {
      "text/plain": [
       "0.5225466368457194"
      ]
     },
     "execution_count": 105,
     "metadata": {},
     "output_type": "execute_result"
    }
   ],
   "source": [
    "reg.score(X_test,Y_test)"
   ]
  },
  {
   "cell_type": "markdown",
   "id": "f33d73f9",
   "metadata": {},
   "source": [
    "The score on train data is only 49 while that on test data is 52.3%"
   ]
  },
  {
   "cell_type": "code",
   "execution_count": 106,
   "id": "d5010ebc",
   "metadata": {},
   "outputs": [],
   "source": [
    "#PREDICTED VALUES\n",
    "Y_pred = reg.predict(X_test)"
   ]
  },
  {
   "cell_type": "code",
   "execution_count": 107,
   "id": "76024267",
   "metadata": {},
   "outputs": [],
   "source": [
    "#Making a dataframe for actual and  predicted values \n",
    "df = pd.DataFrame({'Actual': Y_test, 'Predicted': Y_pred})\n"
   ]
  },
  {
   "cell_type": "code",
   "execution_count": 108,
   "id": "856d95f0",
   "metadata": {},
   "outputs": [
    {
     "name": "stdout",
     "output_type": "stream",
     "text": [
      "Root Mean Square Error:\n",
      "\n",
      "150522.96247091517\n"
     ]
    }
   ],
   "source": [
    "#To find the Root mean squared error\n",
    "from sklearn.metrics import mean_squared_error\n",
    "import math\n",
    " \n",
    "MSE = mean_squared_error(df['Actual'], df['Predicted'])\n",
    " \n",
    "RMSE = math.sqrt(MSE)\n",
    "print(\"Root Mean Square Error:\\n\")\n",
    "print(RMSE)"
   ]
  },
  {
   "cell_type": "code",
   "execution_count": 109,
   "id": "68842c31",
   "metadata": {},
   "outputs": [
    {
     "name": "stdout",
     "output_type": "stream",
     "text": [
      "Mean Absolute Error:\n",
      "\n",
      "107335.37009006337\n"
     ]
    }
   ],
   "source": [
    "#To find MAE\n",
    "from sklearn.metrics import mean_absolute_error\n",
    "import math\n",
    " \n",
    "MAE = mean_absolute_error(df['Actual'], df['Predicted'])\n",
    " \n",
    "print(\"Mean Absolute Error:\\n\")\n",
    "print(MAE)"
   ]
  },
  {
   "cell_type": "code",
   "execution_count": 110,
   "id": "f3d225f0",
   "metadata": {},
   "outputs": [
    {
     "name": "stdout",
     "output_type": "stream",
     "text": [
      "Mean Absolute Percentage Error:\n",
      "\n",
      "0.26453888516729845\n"
     ]
    }
   ],
   "source": [
    "#To find MAPE\n",
    "from sklearn.metrics import mean_absolute_percentage_error\n",
    "import math\n",
    " \n",
    "MAPE = mean_absolute_percentage_error(df['Actual'], df['Predicted'])\n",
    " \n",
    "print(\"Mean Absolute Percentage Error:\\n\")\n",
    "print(MAPE)"
   ]
  },
  {
   "cell_type": "markdown",
   "id": "c57f2d3f",
   "metadata": {},
   "source": [
    "Non linear- Support Vector Regression"
   ]
  },
  {
   "cell_type": "code",
   "execution_count": 111,
   "id": "3ceb52aa",
   "metadata": {},
   "outputs": [
    {
     "data": {
      "text/plain": [
       "SVR(degree=8, kernel='poly')"
      ]
     },
     "execution_count": 111,
     "metadata": {},
     "output_type": "execute_result"
    }
   ],
   "source": [
    "#SVR with polynomial kernel of degree 8\n",
    "from sklearn.svm import SVR\n",
    "regressor = SVR(kernel='poly',degree=8)\n",
    "regressor.fit(X_train,Y_train)"
   ]
  },
  {
   "cell_type": "code",
   "execution_count": 112,
   "id": "e5fda885",
   "metadata": {},
   "outputs": [],
   "source": [
    "#PREDICTED VALUES\n",
    "Y_pred = regressor.predict(X_test)"
   ]
  },
  {
   "cell_type": "code",
   "execution_count": 113,
   "id": "e42c3ac6",
   "metadata": {},
   "outputs": [
    {
     "data": {
      "text/plain": [
       "0.005018789893149078"
      ]
     },
     "execution_count": 113,
     "metadata": {},
     "output_type": "execute_result"
    }
   ],
   "source": [
    "regressor.score(X_train,Y_train)"
   ]
  },
  {
   "cell_type": "code",
   "execution_count": 114,
   "id": "319d204a",
   "metadata": {},
   "outputs": [
    {
     "data": {
      "text/plain": [
       "-0.003448977690906796"
      ]
     },
     "execution_count": 114,
     "metadata": {},
     "output_type": "execute_result"
    }
   ],
   "source": [
    "regressor.score(X_test,Y_test)"
   ]
  },
  {
   "cell_type": "code",
   "execution_count": 115,
   "id": "5c3d071a",
   "metadata": {},
   "outputs": [],
   "source": [
    "#Making a dataframe for actual and  predicted values \n",
    "df1 = pd.DataFrame({'Actual': Y_test, 'Predicted': Y_pred})"
   ]
  },
  {
   "cell_type": "code",
   "execution_count": 116,
   "id": "384162db",
   "metadata": {},
   "outputs": [
    {
     "name": "stdout",
     "output_type": "stream",
     "text": [
      "Root Mean Square Error:\n",
      "\n",
      "218215.16364246517\n"
     ]
    }
   ],
   "source": [
    "#To find the Root mean squared error\n",
    "from sklearn.metrics import mean_squared_error\n",
    "import math\n",
    " \n",
    "MSE = mean_squared_error(df1['Actual'], df1['Predicted'])\n",
    " \n",
    "RMSE = math.sqrt(MSE)\n",
    "print(\"Root Mean Square Error:\\n\")\n",
    "print(RMSE)"
   ]
  },
  {
   "cell_type": "code",
   "execution_count": 117,
   "id": "08526d73",
   "metadata": {},
   "outputs": [
    {
     "name": "stdout",
     "output_type": "stream",
     "text": [
      "Mean Absolute Error:\n",
      "\n",
      "147588.97444907235\n"
     ]
    }
   ],
   "source": [
    "#To find MAE\n",
    "from sklearn.metrics import mean_absolute_error\n",
    "import math\n",
    " \n",
    "MAE = mean_absolute_error(df1['Actual'], df1['Predicted'])\n",
    " \n",
    "print(\"Mean Absolute Error:\\n\")\n",
    "print(MAE)"
   ]
  },
  {
   "cell_type": "code",
   "execution_count": 118,
   "id": "34f3a520",
   "metadata": {},
   "outputs": [
    {
     "name": "stdout",
     "output_type": "stream",
     "text": [
      "Mean Absolute Percentage Error:\n",
      "\n",
      "0.33223237290056185\n"
     ]
    }
   ],
   "source": [
    "#To find MAPE\n",
    "from sklearn.metrics import mean_absolute_percentage_error\n",
    "import math\n",
    " \n",
    "MAPE = mean_absolute_percentage_error(df1['Actual'], df1['Predicted'])\n",
    " \n",
    "print(\"Mean Absolute Percentage Error:\\n\")\n",
    "print(MAPE)\n"
   ]
  },
  {
   "cell_type": "code",
   "execution_count": 119,
   "id": "fe331d87",
   "metadata": {},
   "outputs": [
    {
     "data": {
      "text/plain": [
       "SVR(kernel='linear')"
      ]
     },
     "execution_count": 119,
     "metadata": {},
     "output_type": "execute_result"
    }
   ],
   "source": [
    "#SVR with linear KERNEL\n",
    "from sklearn.svm import SVR\n",
    "regressor1 = SVR(kernel='linear')\n",
    "regressor1.fit(X_train,Y_train)"
   ]
  },
  {
   "cell_type": "code",
   "execution_count": 120,
   "id": "83f239bd",
   "metadata": {},
   "outputs": [],
   "source": [
    "#PREDICTED VALUES\n",
    "Y_pred = regressor1.predict(X_test)"
   ]
  },
  {
   "cell_type": "code",
   "execution_count": 121,
   "id": "dd606f4f",
   "metadata": {},
   "outputs": [],
   "source": [
    "#Making a dataframe for actual and  predicted values \n",
    "df2 = pd.DataFrame({'Actual': Y_test, 'Predicted': Y_pred})"
   ]
  },
  {
   "cell_type": "code",
   "execution_count": 122,
   "id": "262802c0",
   "metadata": {},
   "outputs": [
    {
     "name": "stdout",
     "output_type": "stream",
     "text": [
      "Root Mean Square Error:\n",
      "\n",
      "210212.59079437333\n"
     ]
    }
   ],
   "source": [
    "#To find the Root mean squared error\n",
    "from sklearn.metrics import mean_squared_error\n",
    "import math\n",
    " \n",
    "MSE = mean_squared_error(df2['Actual'], df2['Predicted'])\n",
    " \n",
    "RMSE = math.sqrt(MSE)\n",
    "print(\"Root Mean Square Error:\\n\")\n",
    "print(RMSE)"
   ]
  },
  {
   "cell_type": "code",
   "execution_count": 123,
   "id": "f9d55aa8",
   "metadata": {},
   "outputs": [
    {
     "name": "stdout",
     "output_type": "stream",
     "text": [
      "Mean Absolute Error:\n",
      "\n",
      "143517.82303601113\n"
     ]
    }
   ],
   "source": [
    "#To find MAE\n",
    "from sklearn.metrics import mean_absolute_error\n",
    "import math\n",
    " \n",
    "MAE = mean_absolute_error(df2['Actual'], df2['Predicted'])\n",
    " \n",
    "print(\"Mean Absolute Error:\\n\")\n",
    "print(MAE)"
   ]
  },
  {
   "cell_type": "code",
   "execution_count": 124,
   "id": "6c3df9e4",
   "metadata": {},
   "outputs": [
    {
     "name": "stdout",
     "output_type": "stream",
     "text": [
      "Mean Absolute Percentage Error:\n",
      "\n",
      "0.32678922104167996\n"
     ]
    }
   ],
   "source": [
    "#To find MAPE\n",
    "from sklearn.metrics import mean_absolute_percentage_error\n",
    "import math\n",
    " \n",
    "MAPE = mean_absolute_percentage_error(df2['Actual'], df2['Predicted'])\n",
    " \n",
    "print(\"Mean Absolute Percentage Error:\\n\")\n",
    "print(MAPE)"
   ]
  },
  {
   "cell_type": "markdown",
   "id": "4d42da70",
   "metadata": {},
   "source": [
    "Decision trees"
   ]
  },
  {
   "cell_type": "code",
   "execution_count": 125,
   "id": "471a426c",
   "metadata": {},
   "outputs": [],
   "source": [
    "from sklearn.tree import DecisionTreeRegressor\n",
    "clf = DecisionTreeRegressor()\n",
    "clf = clf.fit(X_train, Y_train)"
   ]
  },
  {
   "cell_type": "code",
   "execution_count": 126,
   "id": "6ef29b05",
   "metadata": {},
   "outputs": [
    {
     "data": {
      "text/plain": [
       "0.9999997517339749"
      ]
     },
     "execution_count": 126,
     "metadata": {},
     "output_type": "execute_result"
    }
   ],
   "source": [
    "clf.score(X_train,Y_train)"
   ]
  },
  {
   "cell_type": "code",
   "execution_count": 127,
   "id": "0bfe1e78",
   "metadata": {},
   "outputs": [
    {
     "data": {
      "text/plain": [
       "0.48372734952293805"
      ]
     },
     "execution_count": 127,
     "metadata": {},
     "output_type": "execute_result"
    }
   ],
   "source": [
    "clf.score(X_test,Y_test)"
   ]
  },
  {
   "cell_type": "code",
   "execution_count": 128,
   "id": "ca5bce45",
   "metadata": {},
   "outputs": [],
   "source": [
    "#PREDICTED VALUES\n",
    "Y_pred = clf.predict(X_test)"
   ]
  },
  {
   "cell_type": "code",
   "execution_count": 129,
   "id": "06b51497",
   "metadata": {},
   "outputs": [],
   "source": [
    "#Making a dataframe for actual and  predicted values \n",
    "df3 = pd.DataFrame({'Actual': Y_test, 'Predicted': Y_pred})"
   ]
  },
  {
   "cell_type": "code",
   "execution_count": 130,
   "id": "ad80ae8d",
   "metadata": {},
   "outputs": [
    {
     "name": "stdout",
     "output_type": "stream",
     "text": [
      "Root Mean Square Error:\n",
      "\n",
      "156522.52245726457\n"
     ]
    }
   ],
   "source": [
    "#To find the Root mean squared error\n",
    "from sklearn.metrics import mean_squared_error\n",
    "import math\n",
    " \n",
    "MSE = mean_squared_error(df3['Actual'], df3['Predicted'])\n",
    " \n",
    "RMSE = math.sqrt(MSE)\n",
    "print(\"Root Mean Square Error:\\n\")\n",
    "print(RMSE)"
   ]
  },
  {
   "cell_type": "code",
   "execution_count": 131,
   "id": "f1935619",
   "metadata": {},
   "outputs": [
    {
     "name": "stdout",
     "output_type": "stream",
     "text": [
      "Mean Absolute Error:\n",
      "\n",
      "102237.12550164174\n"
     ]
    }
   ],
   "source": [
    "#To find MAE\n",
    "from sklearn.metrics import mean_absolute_error\n",
    "import math\n",
    " \n",
    "MAE = mean_absolute_error(df3['Actual'], df3['Predicted'])\n",
    " \n",
    "print(\"Mean Absolute Error:\\n\")\n",
    "print(MAE)"
   ]
  },
  {
   "cell_type": "code",
   "execution_count": 132,
   "id": "e3ee8b81",
   "metadata": {},
   "outputs": [
    {
     "name": "stdout",
     "output_type": "stream",
     "text": [
      "Mean Absolute Percentage Error:\n",
      "\n",
      "0.23930507166791967\n"
     ]
    }
   ],
   "source": [
    "#To find MAPE\n",
    "from sklearn.metrics import mean_absolute_percentage_error\n",
    "import math\n",
    " \n",
    "MAPE = mean_absolute_percentage_error(df3['Actual'], df3['Predicted'])\n",
    " \n",
    "print(\"Mean Absolute Percentage Error:\\n\")\n",
    "print(MAPE)"
   ]
  },
  {
   "cell_type": "markdown",
   "id": "1ee8c19b",
   "metadata": {},
   "source": [
    "# Hyperparameter tuning"
   ]
  },
  {
   "cell_type": "code",
   "execution_count": 133,
   "id": "ca066bb0",
   "metadata": {},
   "outputs": [
    {
     "data": {
      "text/plain": [
       "0.9999997517339749"
      ]
     },
     "execution_count": 133,
     "metadata": {},
     "output_type": "execute_result"
    }
   ],
   "source": [
    "#Score on Decison tree train data\n",
    "clf.score(X_train,Y_train)"
   ]
  },
  {
   "cell_type": "code",
   "execution_count": 134,
   "id": "98830f0a",
   "metadata": {},
   "outputs": [
    {
     "data": {
      "text/plain": [
       "0.48372734952293805"
      ]
     },
     "execution_count": 134,
     "metadata": {},
     "output_type": "execute_result"
    }
   ],
   "source": [
    "#Score on Decision tree test data\n",
    "clf.score(X_test,Y_test)"
   ]
  },
  {
   "cell_type": "markdown",
   "id": "6b8cdb3b",
   "metadata": {},
   "source": [
    "We got 99.99% score on training data.\n",
    "\n",
    "On test data we got 48.9% score because we did not provide any tuning parameters while intializing the tree as a result of which algorithm split the training data till the leaf node. Due to which depth of tree increased and our model did the overfitting.\n",
    "\n",
    "That's why we are getting high score on our training data and less score on test data.\n",
    "\n",
    "So to solve this problem we would use hyper parameter tuning."
   ]
  },
  {
   "cell_type": "code",
   "execution_count": 135,
   "id": "ca4abdb2",
   "metadata": {},
   "outputs": [],
   "source": [
    "from sklearn.model_selection import RandomizedSearchCV\n"
   ]
  },
  {
   "cell_type": "code",
   "execution_count": 136,
   "id": "3d7cb728",
   "metadata": {},
   "outputs": [
    {
     "name": "stdout",
     "output_type": "stream",
     "text": [
      "Fitting 5 folds for each of 100 candidates, totalling 500 fits\n"
     ]
    },
    {
     "data": {
      "text/plain": [
       "{'min_samples_split': 40,\n",
       " 'min_samples_leaf': 6,\n",
       " 'max_features': 'auto',\n",
       " 'max_depth': 35}"
      ]
     },
     "execution_count": 136,
     "metadata": {},
     "output_type": "execute_result"
    }
   ],
   "source": [
    "# Instantiating RandomizedSearchCV object and finding the best model fit with the best hyper-parameters\n",
    "param_grid = {'max_features': ['auto', 'sqrt'],\n",
    "              'max_depth': np.arange(5, 36, 5),\n",
    "              'min_samples_split': [5, 10, 20, 40],\n",
    "              'min_samples_leaf': [2, 6, 12, 24],\n",
    "             }\n",
    "tree_reg = RandomizedSearchCV(estimator = DecisionTreeRegressor(), param_distributions = param_grid, n_iter = 100, verbose = 2, n_jobs = -1)\n",
    "tree_reg.fit(X_train, Y_train)\n",
    "tree_reg.best_params_\n"
   ]
  },
  {
   "cell_type": "code",
   "execution_count": 137,
   "id": "d7952fb4",
   "metadata": {},
   "outputs": [
    {
     "data": {
      "text/plain": [
       "[('livingAreaSqFt', 0.411853431681921),\n",
       " ('zipcode-4', 0.19600791816011542),\n",
       " ('zipcode-5', 0.11617657152645165),\n",
       " ('lotSizeSqFt', 0.1056618412486308),\n",
       " ('avgSchoolRating', 0.09003113876148314),\n",
       " ('avgSchoolDistance', 0.016703214371157894),\n",
       " ('numOfPhotos', 0.012767562784644235),\n",
       " ('numOfPatioAndPorchFeatures', 0.008773439573223659),\n",
       " ('numOfElementarySchools', 0.007772141693645157),\n",
       " ('numOfBathrooms', 0.006503223786266118),\n",
       " ('newconstruction', 0.0054282466136138605),\n",
       " ('numOfHighSchools', 0.004420199485473779),\n",
       " ('numOfStories', 0.003778004062159547),\n",
       " ('propertyTaxRate', 0.0034817790722854874),\n",
       " ('numOfAppliances', 0.0021914467233069596),\n",
       " ('numOfSecurityFeatures', 0.00208136334512883),\n",
       " ('numOfBedrooms', 0.001481965357827833),\n",
       " ('parkingSpaces', 0.0014818763457789472),\n",
       " ('numOfParkingFeatures', 0.0009645762255567474),\n",
       " ('numOfWindowFeatures', 0.0006656231296758312),\n",
       " ('hasSpa', 0.0004650741052065418),\n",
       " ('zipcode-3', 0.0004287975710139791),\n",
       " ('hasCooling', 0.0004124329626910733),\n",
       " ('garageSpaces', 0.00032243086217693376),\n",
       " ('hasView', 0.00014570055056448936),\n",
       " ('numOfPrimarySchools', 0.0),\n",
       " ('hasHeating', 0.0),\n",
       " ('numOfMiddleSchools', 0.0),\n",
       " ('numOfWaterfrontFeatures', 0.0),\n",
       " ('numOfAccessibilityFeatures', 0.0)]"
      ]
     },
     "execution_count": 137,
     "metadata": {},
     "output_type": "execute_result"
    }
   ],
   "source": [
    "#Understand the feature importance for the best decision tree rgeressor estimator which is obtained above\n",
    "sorted(dict(zip(X_train.columns, tree_reg.best_estimator_.feature_importances_)).items(), key=lambda x: x[1], reverse=True)\n",
    "\n"
   ]
  },
  {
   "cell_type": "markdown",
   "id": "34c02749",
   "metadata": {},
   "source": [
    "The above results show the livingareasquare feet,location as shown by zipcode,average school rating and  average school distance as the most important features affecting price. "
   ]
  },
  {
   "cell_type": "code",
   "execution_count": 138,
   "id": "6b232761",
   "metadata": {},
   "outputs": [
    {
     "data": {
      "text/plain": [
       "0.7731031497519896"
      ]
     },
     "execution_count": 138,
     "metadata": {},
     "output_type": "execute_result"
    }
   ],
   "source": [
    "#Score on train data for the hypertuned estimator\n",
    "tree_reg.best_estimator_.score(X_train,Y_train)"
   ]
  },
  {
   "cell_type": "code",
   "execution_count": 139,
   "id": "119d3bb4",
   "metadata": {},
   "outputs": [
    {
     "data": {
      "text/plain": [
       "0.6887881297173295"
      ]
     },
     "execution_count": 139,
     "metadata": {},
     "output_type": "execute_result"
    }
   ],
   "source": [
    "#Score on test data for the hypertuned estimator\n",
    "tree_reg.best_estimator_.score(X_test,Y_test)"
   ]
  },
  {
   "cell_type": "markdown",
   "id": "73b4d88f",
   "metadata": {},
   "source": [
    "The train data score is 77.3% while the test data score is 68.9%.For the previous model without hyperparameter tuning it was 99.99% for train data while only 48% for test data.Overfitting is removed using the best estimator from randomized serach cv."
   ]
  },
  {
   "cell_type": "code",
   "execution_count": 140,
   "id": "d421dbf4",
   "metadata": {},
   "outputs": [],
   "source": [
    "#Predicted values for the hypertuned decision tree model\n",
    "Y_pred = tree_reg.best_estimator_.predict(X_test)"
   ]
  },
  {
   "cell_type": "code",
   "execution_count": 141,
   "id": "5299ac48",
   "metadata": {},
   "outputs": [],
   "source": [
    "#Making a dataframe for actual and  predicted values \n",
    "df4 = pd.DataFrame({'Actual': Y_test, 'Predicted': Y_pred})"
   ]
  },
  {
   "cell_type": "code",
   "execution_count": 142,
   "id": "89afca24",
   "metadata": {},
   "outputs": [
    {
     "name": "stdout",
     "output_type": "stream",
     "text": [
      "Root Mean Square Error:\n",
      "\n",
      "121524.92326597651\n"
     ]
    }
   ],
   "source": [
    "#To find the Root mean squared error\n",
    "from sklearn.metrics import mean_squared_error\n",
    "import math\n",
    " \n",
    "MSE = mean_squared_error(df4['Actual'], df4['Predicted'])\n",
    " \n",
    "RMSE = math.sqrt(MSE)\n",
    "print(\"Root Mean Square Error:\\n\")\n",
    "print(RMSE)"
   ]
  },
  {
   "cell_type": "code",
   "execution_count": 143,
   "id": "257be49c",
   "metadata": {},
   "outputs": [
    {
     "name": "stdout",
     "output_type": "stream",
     "text": [
      "Mean Absolute Error:\n",
      "\n",
      "81525.69235357615\n"
     ]
    }
   ],
   "source": [
    "#To find MAE\n",
    "from sklearn.metrics import mean_absolute_error\n",
    "import math\n",
    " \n",
    "MAE = mean_absolute_error(df4['Actual'], df4['Predicted'])\n",
    " \n",
    "print(\"Mean Absolute Error:\\n\")\n",
    "print(MAE)"
   ]
  },
  {
   "cell_type": "code",
   "execution_count": 144,
   "id": "b00b3d11",
   "metadata": {},
   "outputs": [
    {
     "name": "stdout",
     "output_type": "stream",
     "text": [
      "Mean Absolute Percentage Error:\n",
      "\n",
      "0.19676693080808247\n"
     ]
    }
   ],
   "source": [
    "#To find MAPE\n",
    "from sklearn.metrics import mean_absolute_percentage_error\n",
    "import math\n",
    " \n",
    "MAPE = mean_absolute_percentage_error(df4['Actual'], df4['Predicted'])\n",
    " \n",
    "print(\"Mean Absolute Percentage Error:\\n\")\n",
    "print(MAPE)"
   ]
  },
  {
   "cell_type": "code",
   "execution_count": 145,
   "id": "0506a6ad",
   "metadata": {},
   "outputs": [
    {
     "data": {
      "text/html": [
       "<div>\n",
       "<style scoped>\n",
       "    .dataframe tbody tr th:only-of-type {\n",
       "        vertical-align: middle;\n",
       "    }\n",
       "\n",
       "    .dataframe tbody tr th {\n",
       "        vertical-align: top;\n",
       "    }\n",
       "\n",
       "    .dataframe thead th {\n",
       "        text-align: right;\n",
       "    }\n",
       "</style>\n",
       "<table border=\"1\" class=\"dataframe\">\n",
       "  <thead>\n",
       "    <tr style=\"text-align: right;\">\n",
       "      <th></th>\n",
       "      <th>Actual</th>\n",
       "      <th>Predicted</th>\n",
       "      <th>Delta</th>\n",
       "    </tr>\n",
       "  </thead>\n",
       "  <tbody>\n",
       "    <tr>\n",
       "      <th>14966</th>\n",
       "      <td>649000</td>\n",
       "      <td>711868.382353</td>\n",
       "      <td>62868.382353</td>\n",
       "    </tr>\n",
       "    <tr>\n",
       "      <th>2202</th>\n",
       "      <td>220000</td>\n",
       "      <td>280838.000000</td>\n",
       "      <td>60838.000000</td>\n",
       "    </tr>\n",
       "    <tr>\n",
       "      <th>13344</th>\n",
       "      <td>789650</td>\n",
       "      <td>805020.619048</td>\n",
       "      <td>15370.619048</td>\n",
       "    </tr>\n",
       "    <tr>\n",
       "      <th>10638</th>\n",
       "      <td>395000</td>\n",
       "      <td>328535.000000</td>\n",
       "      <td>-66465.000000</td>\n",
       "    </tr>\n",
       "    <tr>\n",
       "      <th>2405</th>\n",
       "      <td>440000</td>\n",
       "      <td>500767.107143</td>\n",
       "      <td>60767.107143</td>\n",
       "    </tr>\n",
       "    <tr>\n",
       "      <th>...</th>\n",
       "      <td>...</td>\n",
       "      <td>...</td>\n",
       "      <td>...</td>\n",
       "    </tr>\n",
       "    <tr>\n",
       "      <th>11663</th>\n",
       "      <td>399000</td>\n",
       "      <td>304684.062500</td>\n",
       "      <td>-94315.937500</td>\n",
       "    </tr>\n",
       "    <tr>\n",
       "      <th>3100</th>\n",
       "      <td>471900</td>\n",
       "      <td>336061.541667</td>\n",
       "      <td>-135838.458333</td>\n",
       "    </tr>\n",
       "    <tr>\n",
       "      <th>4787</th>\n",
       "      <td>397500</td>\n",
       "      <td>504554.307692</td>\n",
       "      <td>107054.307692</td>\n",
       "    </tr>\n",
       "    <tr>\n",
       "      <th>3090</th>\n",
       "      <td>749000</td>\n",
       "      <td>657106.300000</td>\n",
       "      <td>-91893.700000</td>\n",
       "    </tr>\n",
       "    <tr>\n",
       "      <th>1032</th>\n",
       "      <td>550000</td>\n",
       "      <td>428963.636364</td>\n",
       "      <td>-121036.363636</td>\n",
       "    </tr>\n",
       "  </tbody>\n",
       "</table>\n",
       "<p>2741 rows × 3 columns</p>\n",
       "</div>"
      ],
      "text/plain": [
       "       Actual      Predicted          Delta\n",
       "14966  649000  711868.382353   62868.382353\n",
       "2202   220000  280838.000000   60838.000000\n",
       "13344  789650  805020.619048   15370.619048\n",
       "10638  395000  328535.000000  -66465.000000\n",
       "2405   440000  500767.107143   60767.107143\n",
       "...       ...            ...            ...\n",
       "11663  399000  304684.062500  -94315.937500\n",
       "3100   471900  336061.541667 -135838.458333\n",
       "4787   397500  504554.307692  107054.307692\n",
       "3090   749000  657106.300000  -91893.700000\n",
       "1032   550000  428963.636364 -121036.363636\n",
       "\n",
       "[2741 rows x 3 columns]"
      ]
     },
     "execution_count": 145,
     "metadata": {},
     "output_type": "execute_result"
    }
   ],
   "source": [
    "#To find where the model performs well and where model performs poorly add a column delta showing the difference between actual and predicted values\n",
    "df4[\"Delta\"] = df4.Predicted- df4.Actual\n",
    "df4"
   ]
  },
  {
   "cell_type": "code",
   "execution_count": 150,
   "id": "f0418229",
   "metadata": {},
   "outputs": [],
   "source": [
    "df4.to_csv(\"results.csv\")"
   ]
  },
  {
   "cell_type": "code",
   "execution_count": null,
   "id": "3011d345",
   "metadata": {},
   "outputs": [],
   "source": []
  }
 ],
 "metadata": {
  "kernelspec": {
   "display_name": "Python 3",
   "language": "python",
   "name": "python3"
  },
  "language_info": {
   "codemirror_mode": {
    "name": "ipython",
    "version": 3
   },
   "file_extension": ".py",
   "mimetype": "text/x-python",
   "name": "python",
   "nbconvert_exporter": "python",
   "pygments_lexer": "ipython3",
   "version": "3.8.8"
  }
 },
 "nbformat": 4,
 "nbformat_minor": 5
}
